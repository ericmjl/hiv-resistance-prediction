{
 "cells": [
  {
   "cell_type": "markdown",
   "metadata": {},
   "source": [
    "# Purpose\n",
    "\n",
    "The purpose of this notebook is to compare pKa and binarized sequence as predictors of drug resistance.\n",
    "\n",
    "- Sequence Feature Tested:\n",
    "    - Amino acid pKa values\n",
    "    - binarized pKa values\n",
    "- Model:\n",
    "    - Random Forest Regressor"
   ]
  },
  {
   "cell_type": "code",
   "execution_count": 41,
   "metadata": {
    "collapsed": false
   },
   "outputs": [
    {
     "name": "stdout",
     "output_type": "stream",
     "text": [
      "The autoreload extension is already loaded. To reload it, use:\n",
      "  %reload_ext autoreload\n"
     ]
    }
   ],
   "source": [
    "# Jupyter notebook magic statements\n",
    "%matplotlib inline\n",
    "%load_ext autoreload\n",
    "%autoreload 2"
   ]
  },
  {
   "cell_type": "code",
   "execution_count": 42,
   "metadata": {
    "collapsed": false
   },
   "outputs": [],
   "source": [
    "import pandas as pd\n",
    "import matplotlib.pyplot as plt\n",
    "import numpy as np\n",
    "import seaborn as sns\n",
    "sns.set_style('white')\n",
    "\n",
    "from Bio import SeqIO\n",
    "from util.isoelectric_point import *  # imported from the 'util/' directory\n",
    "from sklearn.cross_validation import cross_val_score, ShuffleSplit, train_test_split\n",
    "from sklearn.ensemble import RandomForestRegressor\n",
    "from sklearn.metrics import mean_squared_error as mse\n",
    "from sklearn.preprocessing import LabelBinarizer"
   ]
  },
  {
   "cell_type": "code",
   "execution_count": 43,
   "metadata": {
    "collapsed": false
   },
   "outputs": [
    {
     "name": "stdout",
     "output_type": "stream",
     "text": [
      "20150902_nnet_ha.fasta                hiv-nnrt-data.csv                     hiv-protease-data-expanded.csv        hiv-protease.pdb\r\n",
      "HIV-1_pol.fasta                       hiv-nrt-data.csv                      hiv-protease-data.csv                 hiv-rt-consensus.fasta\r\n",
      "amino_acid_properties.csv             hiv-protease-consensus.fasta          hiv-protease-sequences-expanded.fasta\r\n"
     ]
    }
   ],
   "source": [
    "# List the files present in the \"data\" folder\n",
    "! ls data/"
   ]
  },
  {
   "cell_type": "code",
   "execution_count": 44,
   "metadata": {
    "collapsed": false
   },
   "outputs": [
    {
     "data": {
      "text/html": [
       "<div>\n",
       "<table border=\"1\" class=\"dataframe\">\n",
       "  <thead>\n",
       "    <tr style=\"text-align: right;\">\n",
       "      <th></th>\n",
       "      <th>ATV</th>\n",
       "      <th>DRV</th>\n",
       "      <th>FPV</th>\n",
       "      <th>IDV</th>\n",
       "      <th>LPV</th>\n",
       "      <th>NFV</th>\n",
       "      <th>SQV</th>\n",
       "      <th>SeqID</th>\n",
       "      <th>TPV</th>\n",
       "      <th>sequence</th>\n",
       "      <th>sequence_object</th>\n",
       "      <th>weight</th>\n",
       "    </tr>\n",
       "    <tr>\n",
       "      <th>seqid</th>\n",
       "      <th></th>\n",
       "      <th></th>\n",
       "      <th></th>\n",
       "      <th></th>\n",
       "      <th></th>\n",
       "      <th></th>\n",
       "      <th></th>\n",
       "      <th></th>\n",
       "      <th></th>\n",
       "      <th></th>\n",
       "      <th></th>\n",
       "      <th></th>\n",
       "    </tr>\n",
       "  </thead>\n",
       "  <tbody>\n",
       "    <tr>\n",
       "      <th>2996-0</th>\n",
       "      <td>NaN</td>\n",
       "      <td>NaN</td>\n",
       "      <td>0.397940</td>\n",
       "      <td>1.212188</td>\n",
       "      <td>NaN</td>\n",
       "      <td>1.586587</td>\n",
       "      <td>1.206826</td>\n",
       "      <td>2996</td>\n",
       "      <td>NaN</td>\n",
       "      <td>PQITLWQRPIVTIKIGGQLKEALLDTGADDTVLEDVNLPGRWKPKM...</td>\n",
       "      <td>ID: 2996-0\\nName: &lt;unknown name&gt;\\nDescription:...</td>\n",
       "      <td>0.50</td>\n",
       "    </tr>\n",
       "    <tr>\n",
       "      <th>2996-1</th>\n",
       "      <td>NaN</td>\n",
       "      <td>NaN</td>\n",
       "      <td>0.397940</td>\n",
       "      <td>1.212188</td>\n",
       "      <td>NaN</td>\n",
       "      <td>1.586587</td>\n",
       "      <td>1.206826</td>\n",
       "      <td>2996</td>\n",
       "      <td>NaN</td>\n",
       "      <td>PQITLWQRPIVTIKIGGQLKEALLDTGADDTVLEDVNLPGRWKPKM...</td>\n",
       "      <td>ID: 2996-1\\nName: &lt;unknown name&gt;\\nDescription:...</td>\n",
       "      <td>0.50</td>\n",
       "    </tr>\n",
       "    <tr>\n",
       "      <th>4387-0</th>\n",
       "      <td>NaN</td>\n",
       "      <td>NaN</td>\n",
       "      <td>-0.154902</td>\n",
       "      <td>-0.096910</td>\n",
       "      <td>NaN</td>\n",
       "      <td>-0.096910</td>\n",
       "      <td>0.041393</td>\n",
       "      <td>4387</td>\n",
       "      <td>NaN</td>\n",
       "      <td>PQITLWQRPLVTIKVGGQLKEALLDTGADDTVLEDMELPGRWKPKM...</td>\n",
       "      <td>ID: 4387-0\\nName: &lt;unknown name&gt;\\nDescription:...</td>\n",
       "      <td>0.25</td>\n",
       "    </tr>\n",
       "    <tr>\n",
       "      <th>4387-1</th>\n",
       "      <td>NaN</td>\n",
       "      <td>NaN</td>\n",
       "      <td>-0.154902</td>\n",
       "      <td>-0.096910</td>\n",
       "      <td>NaN</td>\n",
       "      <td>-0.096910</td>\n",
       "      <td>0.041393</td>\n",
       "      <td>4387</td>\n",
       "      <td>NaN</td>\n",
       "      <td>PQITLWQRPLVTIKVGGQLKEALLDTGADDTVLEDMELPGRWKPKM...</td>\n",
       "      <td>ID: 4387-1\\nName: &lt;unknown name&gt;\\nDescription:...</td>\n",
       "      <td>0.25</td>\n",
       "    </tr>\n",
       "    <tr>\n",
       "      <th>4387-2</th>\n",
       "      <td>NaN</td>\n",
       "      <td>NaN</td>\n",
       "      <td>-0.154902</td>\n",
       "      <td>-0.096910</td>\n",
       "      <td>NaN</td>\n",
       "      <td>-0.096910</td>\n",
       "      <td>0.041393</td>\n",
       "      <td>4387</td>\n",
       "      <td>NaN</td>\n",
       "      <td>PQITLWQRPLVTIKVGGQLKEALLDTGADDTVLEDMELPGRWKPKM...</td>\n",
       "      <td>ID: 4387-2\\nName: &lt;unknown name&gt;\\nDescription:...</td>\n",
       "      <td>0.25</td>\n",
       "    </tr>\n",
       "  </tbody>\n",
       "</table>\n",
       "</div>"
      ],
      "text/plain": [
       "        ATV  DRV       FPV       IDV  LPV       NFV       SQV  SeqID  TPV  \\\n",
       "seqid                                                                       \n",
       "2996-0  NaN  NaN  0.397940  1.212188  NaN  1.586587  1.206826   2996  NaN   \n",
       "2996-1  NaN  NaN  0.397940  1.212188  NaN  1.586587  1.206826   2996  NaN   \n",
       "4387-0  NaN  NaN -0.154902 -0.096910  NaN -0.096910  0.041393   4387  NaN   \n",
       "4387-1  NaN  NaN -0.154902 -0.096910  NaN -0.096910  0.041393   4387  NaN   \n",
       "4387-2  NaN  NaN -0.154902 -0.096910  NaN -0.096910  0.041393   4387  NaN   \n",
       "\n",
       "                                                 sequence  \\\n",
       "seqid                                                       \n",
       "2996-0  PQITLWQRPIVTIKIGGQLKEALLDTGADDTVLEDVNLPGRWKPKM...   \n",
       "2996-1  PQITLWQRPIVTIKIGGQLKEALLDTGADDTVLEDVNLPGRWKPKM...   \n",
       "4387-0  PQITLWQRPLVTIKVGGQLKEALLDTGADDTVLEDMELPGRWKPKM...   \n",
       "4387-1  PQITLWQRPLVTIKVGGQLKEALLDTGADDTVLEDMELPGRWKPKM...   \n",
       "4387-2  PQITLWQRPLVTIKVGGQLKEALLDTGADDTVLEDMELPGRWKPKM...   \n",
       "\n",
       "                                          sequence_object  weight  \n",
       "seqid                                                              \n",
       "2996-0  ID: 2996-0\\nName: <unknown name>\\nDescription:...    0.50  \n",
       "2996-1  ID: 2996-1\\nName: <unknown name>\\nDescription:...    0.50  \n",
       "4387-0  ID: 4387-0\\nName: <unknown name>\\nDescription:...    0.25  \n",
       "4387-1  ID: 4387-1\\nName: <unknown name>\\nDescription:...    0.25  \n",
       "4387-2  ID: 4387-2\\nName: <unknown name>\\nDescription:...    0.25  "
      ]
     },
     "execution_count": 44,
     "metadata": {},
     "output_type": "execute_result"
    }
   ],
   "source": [
    "# Load the protease resistance data into memory.\n",
    "# [ ] TODO: Refactor this function out as a load_data() function.\n",
    "resistance = pd.read_csv('data/hiv-protease-data-expanded.csv', index_col=0)\n",
    "drug_cols = ['NFV', 'SQV', 'FPV', 'IDV', 'LPV', 'ATV', 'TPV', 'DRV']\n",
    "resistance.set_index('seqid', inplace=True)\n",
    "resistance[drug_cols] = resistance[drug_cols].apply(np.log10)\n",
    "resistance.head()"
   ]
  },
  {
   "cell_type": "code",
   "execution_count": 45,
   "metadata": {
    "collapsed": false
   },
   "outputs": [
    {
     "data": {
      "text/plain": [
       "NFV     111\n",
       "SQV     316\n",
       "FPV     319\n",
       "IDV     325\n",
       "LPV     930\n",
       "ATV    1928\n",
       "TPV    2650\n",
       "DRV    4141\n",
       "dtype: int64"
      ]
     },
     "execution_count": 45,
     "metadata": {},
     "output_type": "execute_result"
    }
   ],
   "source": [
    "# Count the number of NaNs in each of the drug resistance columns.\n",
    "pd.isnull(resistance[drug_cols]).sum().sort_values()"
   ]
  },
  {
   "cell_type": "code",
   "execution_count": 46,
   "metadata": {
    "collapsed": false
   },
   "outputs": [],
   "source": [
    "# Convert the FASTA file of sequences into a pandas dataframe.\n",
    "# [ ] TODO: Refactor out into a load_sequences() function.\n",
    "sequences = [np.array(s) for s in SeqIO.parse('data/hiv-protease-sequences-expanded.fasta', 'fasta')]\n",
    "seqids = [s.id for s in SeqIO.parse('data/hiv-protease-sequences-expanded.fasta', 'fasta')]\n",
    "sequences = pd.DataFrame(sequences)\n",
    "sequences = sequences.replace('*', np.nan)\n",
    "sequences.index = seqids\n",
    "sequences.dropna(inplace=True)\n",
    "\n",
    "# Because there's a lower-case character somewhere, force all of the characters to be upper-case.\n",
    "for col in sequences.columns:\n",
    "    sequences[col] = sequences[col].apply(lambda x: str(x).upper())"
   ]
  },
  {
   "cell_type": "code",
   "execution_count": 47,
   "metadata": {
    "collapsed": false
   },
   "outputs": [
    {
     "data": {
      "text/plain": [
       "6900"
      ]
     },
     "execution_count": 47,
     "metadata": {},
     "output_type": "execute_result"
    }
   ],
   "source": [
    "len(sequences)"
   ]
  },
  {
   "cell_type": "code",
   "execution_count": 48,
   "metadata": {
    "collapsed": false
   },
   "outputs": [
    {
     "name": "stdout",
     "output_type": "stream",
     "text": [
      "\"\"\"\r\n",
      "Author: Eric J. Ma\r\n",
      "Date: 2015-03-17\r\n",
      "\"\"\"\r\n",
      "\r\n",
      "isoelectric_points = {\r\n",
      "    'A':6.11,\r\n",
      "    'R':10.76,\r\n",
      "    'N':10.76,\r\n",
      "    'D':2.98,\r\n",
      "    'C':5.02,\r\n",
      "    'E':3.08,\r\n",
      "    'Q':5.65,\r\n",
      "    'G':6.06,\r\n",
      "    'H':7.64,\r\n",
      "    'I':6.04,\r\n",
      "    'L':6.04,\r\n",
      "    'K':9.74,\r\n",
      "    'M':5.74,\r\n",
      "    'F':5.91,\r\n",
      "    'P':6.30,\r\n",
      "    'S':5.68,\r\n",
      "    'T':5.60,\r\n",
      "    'W':5.88,\r\n",
      "    'Y':5.63,\r\n",
      "    'V':6.02,\r\n",
      "    'X':7.00,  # unknown so assign neutral\r\n",
      "    'B':6.87,  # the average of D and N\r\n",
      "    'Z':4.35,  # the average of E and Q\r\n",
      "    'J':6.04,  # the average of I and L\r\n",
      "}\r\n",
      "\r\n",
      "def get_isoelectric_point(aa):\r\n",
      "    return isoelectric_points[aa]"
     ]
    }
   ],
   "source": [
    "# Commands to inspect the utility scripts\n",
    "# ! ls util/\n",
    "! cat util/isoelectric_point.py"
   ]
  },
  {
   "cell_type": "code",
   "execution_count": 49,
   "metadata": {
    "collapsed": false
   },
   "outputs": [
    {
     "data": {
      "text/html": [
       "<div>\n",
       "<table border=\"1\" class=\"dataframe\">\n",
       "  <thead>\n",
       "    <tr style=\"text-align: right;\">\n",
       "      <th></th>\n",
       "      <th>0</th>\n",
       "      <th>1</th>\n",
       "      <th>2</th>\n",
       "      <th>3</th>\n",
       "      <th>4</th>\n",
       "      <th>5</th>\n",
       "      <th>6</th>\n",
       "      <th>7</th>\n",
       "      <th>8</th>\n",
       "      <th>9</th>\n",
       "      <th>...</th>\n",
       "      <th>89</th>\n",
       "      <th>90</th>\n",
       "      <th>91</th>\n",
       "      <th>92</th>\n",
       "      <th>93</th>\n",
       "      <th>94</th>\n",
       "      <th>95</th>\n",
       "      <th>96</th>\n",
       "      <th>97</th>\n",
       "      <th>98</th>\n",
       "    </tr>\n",
       "  </thead>\n",
       "  <tbody>\n",
       "    <tr>\n",
       "      <th>2996-0</th>\n",
       "      <td>6.3</td>\n",
       "      <td>5.65</td>\n",
       "      <td>6.04</td>\n",
       "      <td>5.6</td>\n",
       "      <td>6.04</td>\n",
       "      <td>5.88</td>\n",
       "      <td>5.65</td>\n",
       "      <td>10.76</td>\n",
       "      <td>6.3</td>\n",
       "      <td>6.04</td>\n",
       "      <td>...</td>\n",
       "      <td>5.74</td>\n",
       "      <td>5.6</td>\n",
       "      <td>5.65</td>\n",
       "      <td>6.04</td>\n",
       "      <td>6.06</td>\n",
       "      <td>5.02</td>\n",
       "      <td>5.6</td>\n",
       "      <td>6.04</td>\n",
       "      <td>10.76</td>\n",
       "      <td>5.91</td>\n",
       "    </tr>\n",
       "    <tr>\n",
       "      <th>2996-1</th>\n",
       "      <td>6.3</td>\n",
       "      <td>5.65</td>\n",
       "      <td>6.04</td>\n",
       "      <td>5.6</td>\n",
       "      <td>6.04</td>\n",
       "      <td>5.88</td>\n",
       "      <td>5.65</td>\n",
       "      <td>10.76</td>\n",
       "      <td>6.3</td>\n",
       "      <td>6.04</td>\n",
       "      <td>...</td>\n",
       "      <td>5.74</td>\n",
       "      <td>5.6</td>\n",
       "      <td>5.65</td>\n",
       "      <td>6.04</td>\n",
       "      <td>6.06</td>\n",
       "      <td>5.02</td>\n",
       "      <td>5.6</td>\n",
       "      <td>6.04</td>\n",
       "      <td>10.76</td>\n",
       "      <td>5.91</td>\n",
       "    </tr>\n",
       "    <tr>\n",
       "      <th>4387-0</th>\n",
       "      <td>6.3</td>\n",
       "      <td>5.65</td>\n",
       "      <td>6.04</td>\n",
       "      <td>5.6</td>\n",
       "      <td>6.04</td>\n",
       "      <td>5.88</td>\n",
       "      <td>5.65</td>\n",
       "      <td>10.76</td>\n",
       "      <td>6.3</td>\n",
       "      <td>6.04</td>\n",
       "      <td>...</td>\n",
       "      <td>6.04</td>\n",
       "      <td>5.6</td>\n",
       "      <td>5.65</td>\n",
       "      <td>6.04</td>\n",
       "      <td>6.06</td>\n",
       "      <td>5.02</td>\n",
       "      <td>5.6</td>\n",
       "      <td>6.04</td>\n",
       "      <td>10.76</td>\n",
       "      <td>5.91</td>\n",
       "    </tr>\n",
       "    <tr>\n",
       "      <th>4387-1</th>\n",
       "      <td>6.3</td>\n",
       "      <td>5.65</td>\n",
       "      <td>6.04</td>\n",
       "      <td>5.6</td>\n",
       "      <td>6.04</td>\n",
       "      <td>5.88</td>\n",
       "      <td>5.65</td>\n",
       "      <td>10.76</td>\n",
       "      <td>6.3</td>\n",
       "      <td>6.04</td>\n",
       "      <td>...</td>\n",
       "      <td>6.04</td>\n",
       "      <td>5.6</td>\n",
       "      <td>5.65</td>\n",
       "      <td>6.04</td>\n",
       "      <td>6.06</td>\n",
       "      <td>5.02</td>\n",
       "      <td>5.6</td>\n",
       "      <td>6.04</td>\n",
       "      <td>10.76</td>\n",
       "      <td>5.91</td>\n",
       "    </tr>\n",
       "    <tr>\n",
       "      <th>4387-2</th>\n",
       "      <td>6.3</td>\n",
       "      <td>5.65</td>\n",
       "      <td>6.04</td>\n",
       "      <td>5.6</td>\n",
       "      <td>6.04</td>\n",
       "      <td>5.88</td>\n",
       "      <td>5.65</td>\n",
       "      <td>10.76</td>\n",
       "      <td>6.3</td>\n",
       "      <td>6.04</td>\n",
       "      <td>...</td>\n",
       "      <td>6.04</td>\n",
       "      <td>5.6</td>\n",
       "      <td>5.65</td>\n",
       "      <td>6.04</td>\n",
       "      <td>6.06</td>\n",
       "      <td>5.02</td>\n",
       "      <td>5.6</td>\n",
       "      <td>6.04</td>\n",
       "      <td>10.76</td>\n",
       "      <td>5.91</td>\n",
       "    </tr>\n",
       "  </tbody>\n",
       "</table>\n",
       "<p>5 rows × 99 columns</p>\n",
       "</div>"
      ],
      "text/plain": [
       "         0     1     2    3     4     5     6      7    8     9   ...     89  \\\n",
       "2996-0  6.3  5.65  6.04  5.6  6.04  5.88  5.65  10.76  6.3  6.04  ...   5.74   \n",
       "2996-1  6.3  5.65  6.04  5.6  6.04  5.88  5.65  10.76  6.3  6.04  ...   5.74   \n",
       "4387-0  6.3  5.65  6.04  5.6  6.04  5.88  5.65  10.76  6.3  6.04  ...   6.04   \n",
       "4387-1  6.3  5.65  6.04  5.6  6.04  5.88  5.65  10.76  6.3  6.04  ...   6.04   \n",
       "4387-2  6.3  5.65  6.04  5.6  6.04  5.88  5.65  10.76  6.3  6.04  ...   6.04   \n",
       "\n",
       "         90    91    92    93    94   95    96     97    98  \n",
       "2996-0  5.6  5.65  6.04  6.06  5.02  5.6  6.04  10.76  5.91  \n",
       "2996-1  5.6  5.65  6.04  6.06  5.02  5.6  6.04  10.76  5.91  \n",
       "4387-0  5.6  5.65  6.04  6.06  5.02  5.6  6.04  10.76  5.91  \n",
       "4387-1  5.6  5.65  6.04  6.06  5.02  5.6  6.04  10.76  5.91  \n",
       "4387-2  5.6  5.65  6.04  6.06  5.02  5.6  6.04  10.76  5.91  \n",
       "\n",
       "[5 rows x 99 columns]"
      ]
     },
     "execution_count": 49,
     "metadata": {},
     "output_type": "execute_result"
    }
   ],
   "source": [
    "# Replace the letters with amino acid pKas\n",
    "# Also ensure that \"*\" are replace with NaN, which are then dropped later.\n",
    "pKa_features = sequences.replace(isoelectric_points.keys(), isoelectric_points.values())\n",
    "pKa_features.head()"
   ]
  },
  {
   "cell_type": "code",
   "execution_count": 72,
   "metadata": {
    "collapsed": false,
    "scrolled": false
   },
   "outputs": [
    {
     "name": "stdout",
     "output_type": "stream",
     "text": [
      "5970\n"
     ]
    },
    {
     "data": {
      "text/plain": [
       "0.070275725049439255"
      ]
     },
     "execution_count": 72,
     "metadata": {},
     "output_type": "execute_result"
    }
   ],
   "source": [
    "# Join in the resistance data for FPV\n",
    "\n",
    "# [ ] TODO: Refactor lines 5 through 14 into a get_XY_matrix() function.\n",
    "# Tunable parameters\n",
    "X_cols = [i for i in range(0,99)]\n",
    "drug = 'LPV'\n",
    "weight_col = 'weight'\n",
    "\n",
    "# Get the final data matrix, and split into X and Y\n",
    "data_matrix = pKa_features.join(resistance[[drug, weight_col]], how='inner').dropna()\n",
    "print(len(data_matrix))\n",
    "X = data_matrix[X_cols]\n",
    "Y = data_matrix[drug]\n",
    "W = data_matrix[weight_col]\n",
    "\n",
    "# Perform a train/test split\n",
    "cv = ShuffleSplit(n=len(X), n_iter=10, test_size=0.2)\n",
    "\n",
    "X_train, X_test, Y_train, Y_test = train_test_split(X, Y, test_size=0.2)\n",
    "\n",
    "# Compute the following:\n",
    "mdl = RandomForestRegressor(n_estimators=100)\n",
    "\n",
    "# Compute the score as the mean absolute error\n",
    "scores = cross_val_score(mdl, X, Y, cv=cv, scoring='mean_absolute_error', n_jobs=-1)\n",
    "np.abs(np.mean(scores))"
   ]
  },
  {
   "cell_type": "code",
   "execution_count": 73,
   "metadata": {
    "collapsed": false
   },
   "outputs": [
    {
     "data": {
      "text/plain": [
       "0.0041089622602374781"
      ]
     },
     "execution_count": 73,
     "metadata": {},
     "output_type": "execute_result"
    }
   ],
   "source": [
    "np.std(scores)"
   ]
  },
  {
   "cell_type": "code",
   "execution_count": 74,
   "metadata": {
    "collapsed": false
   },
   "outputs": [],
   "source": [
    "# Do a fit/predict on the X and Y matrices.\n",
    "def train_random_forest_regressor(X_train, Y_train, W, X_test, Y_test):\n",
    "    mdl = RandomForestRegressor(n_estimators=100)\n",
    "    mdl.fit(X_train, Y_train, sample_weight=W.ix[X_train.index].values)\n",
    "    preds = mdl.predict(X_test)\n",
    "    score = mdl.score(X_test, Y_test)\n",
    "    \n",
    "    return preds, score\n",
    "\n",
    "preds, score = train_random_forest_regressor(X_train, Y_train, W, X_test, Y_test)"
   ]
  },
  {
   "cell_type": "code",
   "execution_count": 75,
   "metadata": {
    "collapsed": false
   },
   "outputs": [
    {
     "data": {
      "image/png": "[encoded data removed]",
      "text/plain": [
       "<matplotlib.figure.Figure at 0x1155077b8>"
      ]
     },
     "metadata": {},
     "output_type": "display_data"
    }
   ],
   "source": [
    "# Plot the predicted against actual.\n",
    "\n",
    "def plot_test_vs_preds(Y_test, preds):\n",
    "    fig = plt.figure(figsize=(4,4))\n",
    "    plt.scatter(Y_test, preds)\n",
    "    plt.xlabel('Actual')\n",
    "    plt.ylabel('Predicted')\n",
    "    plt.plot([min(Y_test),max(Y_test)], [min(Y_test),max(Y_test)], color='r', lw=3)\n",
    "    plt.annotate('r2: {0:.02f}'.format(score), xy=(2,0))\n",
    "    plt.title('{0}, mse: {1:.03f}'.format(drug, mse(preds, Y_test)))\n",
    "    \n",
    "plot_test_vs_preds(Y_test, preds)"
   ]
  },
  {
   "cell_type": "code",
   "execution_count": 76,
   "metadata": {
    "collapsed": false
   },
   "outputs": [
    {
     "name": "stdout",
     "output_type": "stream",
     "text": [
      "The actual mean error is:\n"
     ]
    },
    {
     "data": {
      "text/plain": [
       "1.1756437111907017"
      ]
     },
     "execution_count": 76,
     "metadata": {},
     "output_type": "execute_result"
    }
   ],
   "source": [
    "# The average MSE is 0.02, which is in log-transformed units.\n",
    "# The average mean absolute error is 0.08\n",
    "# What is the actual mean error in non log-transformed units?\n",
    "print('The actual mean error is:')\n",
    "np.power(10, np.abs(np.mean(scores)))"
   ]
  },
  {
   "cell_type": "markdown",
   "metadata": {
    "collapsed": true
   },
   "source": [
    "## What about binarized protein sequence?"
   ]
  },
  {
   "cell_type": "code",
   "execution_count": 77,
   "metadata": {
    "collapsed": false
   },
   "outputs": [
    {
     "data": {
      "text/html": [
       "<div>\n",
       "<table border=\"1\" class=\"dataframe\">\n",
       "  <thead>\n",
       "    <tr style=\"text-align: right;\">\n",
       "      <th></th>\n",
       "      <th>0_A</th>\n",
       "      <th>0_B</th>\n",
       "      <th>0_C</th>\n",
       "      <th>0_D</th>\n",
       "      <th>0_E</th>\n",
       "      <th>0_F</th>\n",
       "      <th>0_G</th>\n",
       "      <th>0_H</th>\n",
       "      <th>0_I</th>\n",
       "      <th>0_J</th>\n",
       "      <th>...</th>\n",
       "      <th>98_P</th>\n",
       "      <th>98_Q</th>\n",
       "      <th>98_R</th>\n",
       "      <th>98_S</th>\n",
       "      <th>98_T</th>\n",
       "      <th>98_V</th>\n",
       "      <th>98_W</th>\n",
       "      <th>98_X</th>\n",
       "      <th>98_Y</th>\n",
       "      <th>98_Z</th>\n",
       "    </tr>\n",
       "  </thead>\n",
       "  <tbody>\n",
       "    <tr>\n",
       "      <th>2996-0</th>\n",
       "      <td>0</td>\n",
       "      <td>0</td>\n",
       "      <td>0</td>\n",
       "      <td>0</td>\n",
       "      <td>0</td>\n",
       "      <td>0</td>\n",
       "      <td>0</td>\n",
       "      <td>0</td>\n",
       "      <td>0</td>\n",
       "      <td>0</td>\n",
       "      <td>...</td>\n",
       "      <td>0</td>\n",
       "      <td>0</td>\n",
       "      <td>0</td>\n",
       "      <td>0</td>\n",
       "      <td>0</td>\n",
       "      <td>0</td>\n",
       "      <td>0</td>\n",
       "      <td>0</td>\n",
       "      <td>0</td>\n",
       "      <td>0</td>\n",
       "    </tr>\n",
       "    <tr>\n",
       "      <th>2996-1</th>\n",
       "      <td>0</td>\n",
       "      <td>0</td>\n",
       "      <td>0</td>\n",
       "      <td>0</td>\n",
       "      <td>0</td>\n",
       "      <td>0</td>\n",
       "      <td>0</td>\n",
       "      <td>0</td>\n",
       "      <td>0</td>\n",
       "      <td>0</td>\n",
       "      <td>...</td>\n",
       "      <td>0</td>\n",
       "      <td>0</td>\n",
       "      <td>0</td>\n",
       "      <td>0</td>\n",
       "      <td>0</td>\n",
       "      <td>0</td>\n",
       "      <td>0</td>\n",
       "      <td>0</td>\n",
       "      <td>0</td>\n",
       "      <td>0</td>\n",
       "    </tr>\n",
       "    <tr>\n",
       "      <th>4387-0</th>\n",
       "      <td>0</td>\n",
       "      <td>0</td>\n",
       "      <td>0</td>\n",
       "      <td>0</td>\n",
       "      <td>0</td>\n",
       "      <td>0</td>\n",
       "      <td>0</td>\n",
       "      <td>0</td>\n",
       "      <td>0</td>\n",
       "      <td>0</td>\n",
       "      <td>...</td>\n",
       "      <td>0</td>\n",
       "      <td>0</td>\n",
       "      <td>0</td>\n",
       "      <td>0</td>\n",
       "      <td>0</td>\n",
       "      <td>0</td>\n",
       "      <td>0</td>\n",
       "      <td>0</td>\n",
       "      <td>0</td>\n",
       "      <td>0</td>\n",
       "    </tr>\n",
       "    <tr>\n",
       "      <th>4387-1</th>\n",
       "      <td>0</td>\n",
       "      <td>0</td>\n",
       "      <td>0</td>\n",
       "      <td>0</td>\n",
       "      <td>0</td>\n",
       "      <td>0</td>\n",
       "      <td>0</td>\n",
       "      <td>0</td>\n",
       "      <td>0</td>\n",
       "      <td>0</td>\n",
       "      <td>...</td>\n",
       "      <td>0</td>\n",
       "      <td>0</td>\n",
       "      <td>0</td>\n",
       "      <td>0</td>\n",
       "      <td>0</td>\n",
       "      <td>0</td>\n",
       "      <td>0</td>\n",
       "      <td>0</td>\n",
       "      <td>0</td>\n",
       "      <td>0</td>\n",
       "    </tr>\n",
       "    <tr>\n",
       "      <th>4387-2</th>\n",
       "      <td>0</td>\n",
       "      <td>0</td>\n",
       "      <td>0</td>\n",
       "      <td>0</td>\n",
       "      <td>0</td>\n",
       "      <td>0</td>\n",
       "      <td>0</td>\n",
       "      <td>0</td>\n",
       "      <td>0</td>\n",
       "      <td>0</td>\n",
       "      <td>...</td>\n",
       "      <td>0</td>\n",
       "      <td>0</td>\n",
       "      <td>0</td>\n",
       "      <td>0</td>\n",
       "      <td>0</td>\n",
       "      <td>0</td>\n",
       "      <td>0</td>\n",
       "      <td>0</td>\n",
       "      <td>0</td>\n",
       "      <td>0</td>\n",
       "    </tr>\n",
       "  </tbody>\n",
       "</table>\n",
       "<p>5 rows × 2376 columns</p>\n",
       "</div>"
      ],
      "text/plain": [
       "        0_A  0_B  0_C  0_D  0_E  0_F  0_G  0_H  0_I  0_J  ...   98_P  98_Q  \\\n",
       "2996-0    0    0    0    0    0    0    0    0    0    0  ...      0     0   \n",
       "2996-1    0    0    0    0    0    0    0    0    0    0  ...      0     0   \n",
       "4387-0    0    0    0    0    0    0    0    0    0    0  ...      0     0   \n",
       "4387-1    0    0    0    0    0    0    0    0    0    0  ...      0     0   \n",
       "4387-2    0    0    0    0    0    0    0    0    0    0  ...      0     0   \n",
       "\n",
       "        98_R  98_S  98_T  98_V  98_W  98_X  98_Y  98_Z  \n",
       "2996-0     0     0     0     0     0     0     0     0  \n",
       "2996-1     0     0     0     0     0     0     0     0  \n",
       "4387-0     0     0     0     0     0     0     0     0  \n",
       "4387-1     0     0     0     0     0     0     0     0  \n",
       "4387-2     0     0     0     0     0     0     0     0  \n",
       "\n",
       "[5 rows x 2376 columns]"
      ]
     },
     "execution_count": 77,
     "metadata": {},
     "output_type": "execute_result"
    }
   ],
   "source": [
    "# We will use the scikit-learn label binarizer to binarize the amino acids into a letter matrix.\n",
    "aa_letters = [i for i in isoelectric_points.keys()]\n",
    "\n",
    "lb = LabelBinarizer()\n",
    "lb.fit(aa_letters)\n",
    "\n",
    "bin_features = pd.DataFrame()\n",
    "X_cols = []\n",
    "\n",
    "for col in sequences.columns:\n",
    "    transformed = lb.transform(sequences[col])\n",
    "    \n",
    "    for i, letter in enumerate(lb.classes_):\n",
    "        colname = '{0}_{1}'.format(col, letter)\n",
    "        bin_features[colname] = transformed[:, i]\n",
    "        X_cols.append(colname)\n",
    "\n",
    "bin_features.index = sequences.index\n",
    "bin_features.head()"
   ]
  },
  {
   "cell_type": "code",
   "execution_count": 78,
   "metadata": {
    "collapsed": false
   },
   "outputs": [
    {
     "name": "stdout",
     "output_type": "stream",
     "text": [
      "5970\n"
     ]
    },
    {
     "data": {
      "text/plain": [
       "0.066340048817844915"
      ]
     },
     "execution_count": 78,
     "metadata": {},
     "output_type": "execute_result"
    }
   ],
   "source": [
    "data_matrix = bin_features.join(resistance[[drug, weight_col]]).dropna()\n",
    "print(len(data_matrix))\n",
    "\n",
    "X = data_matrix[X_cols]\n",
    "Y = data_matrix[drug]\n",
    "W = data_matrix[weight_col]\n",
    "\n",
    "# Perform a train/test split\n",
    "cv = ShuffleSplit(n=len(X), n_iter=10, test_size=0.2)\n",
    "\n",
    "X_train, X_test, Y_train, Y_test = train_test_split(X, Y, test_size=0.2)\n",
    "\n",
    "# Compute the following:\n",
    "mdl = RandomForestRegressor(n_estimators=100)\n",
    "\n",
    "# Compute the score as the mean absolute error\n",
    "scores = cross_val_score(mdl, X, Y, cv=cv, scoring='mean_absolute_error', n_jobs=-1)\n",
    "np.abs(np.mean(scores))"
   ]
  },
  {
   "cell_type": "code",
   "execution_count": 79,
   "metadata": {
    "collapsed": false
   },
   "outputs": [
    {
     "data": {
      "text/plain": [
       "0.0043725869577109708"
      ]
     },
     "execution_count": 79,
     "metadata": {},
     "output_type": "execute_result"
    }
   ],
   "source": [
    "np.std(scores)"
   ]
  },
  {
   "cell_type": "code",
   "execution_count": 80,
   "metadata": {
    "collapsed": true
   },
   "outputs": [],
   "source": [
    "# Do a fit/predict on the X and Y matrices.\n",
    "preds, score = train_random_forest_regressor(X_train, Y_train, W, X_test, Y_test)"
   ]
  },
  {
   "cell_type": "code",
   "execution_count": 81,
   "metadata": {
    "collapsed": false,
    "scrolled": true
   },
   "outputs": [
    {
     "data": {
      "image/png": "[encoded data removed]",
      "text/plain": [
       "<matplotlib.figure.Figure at 0x1171a7940>"
      ]
     },
     "metadata": {},
     "output_type": "display_data"
    }
   ],
   "source": [
    "# Plot the predicted against actual.\n",
    "plot_test_vs_preds(Y_test, preds)"
   ]
  },
  {
   "cell_type": "code",
   "execution_count": 82,
   "metadata": {
    "collapsed": false
   },
   "outputs": [
    {
     "name": "stdout",
     "output_type": "stream",
     "text": [
      "The actual mean error is:\n"
     ]
    },
    {
     "data": {
      "text/plain": [
       "1.1650378869505527"
      ]
     },
     "execution_count": 82,
     "metadata": {},
     "output_type": "execute_result"
    }
   ],
   "source": [
    "print('The actual mean error is:')\n",
    "np.power(10, np.abs(np.mean(scores)))"
   ]
  },
  {
   "cell_type": "code",
   "execution_count": null,
   "metadata": {
    "collapsed": true
   },
   "outputs": [],
   "source": []
  },
  {
   "cell_type": "markdown",
   "metadata": {},
   "source": [
    "## Conclusions\n",
    "\n",
    "Binarized sequence features vs. pKa values - basically the models perform similarly.\n",
    "\n",
    "However, we are lacking interpretability. I would like to implement something like a [convolutional network on graphical models of chemical structures][1].\n",
    "\n",
    "[1]: http://arxiv.org/abs/1509.09292"
   ]
  },
  {
   "cell_type": "code",
   "execution_count": null,
   "metadata": {
    "collapsed": true
   },
   "outputs": [],
   "source": []
  }
 ],
 "metadata": {
  "kernelspec": {
   "display_name": "Python 3",
   "language": "python",
   "name": "python3"
  },
  "language_info": {
   "codemirror_mode": {
    "name": "ipython",
    "version": 3
   },
   "file_extension": ".py",
   "mimetype": "text/x-python",
   "name": "python",
   "nbconvert_exporter": "python",
   "pygments_lexer": "ipython3",
   "version": "3.4.4"
  }
 },
 "nbformat": 4,
 "nbformat_minor": 0
}
