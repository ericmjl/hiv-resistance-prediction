{
 "cells": [
  {
   "cell_type": "markdown",
   "metadata": {},
   "source": [
    "# Purpose\n",
    "\n",
    "The purpose of this notebook is to create a model to predict drug resistance value from sequence.\n",
    "\n",
    "- Sequence Feature Tested:\n",
    "    - Amino acid pKa values\n",
    "- Model:\n",
    "    - Random Forest Regressor"
   ]
  },
  {
   "cell_type": "code",
   "execution_count": 1,
   "metadata": {
    "collapsed": false
   },
   "outputs": [],
   "source": [
    "# Jupyter notebook magic statements\n",
    "%matplotlib inline\n",
    "%load_ext autoreload\n",
    "%autoreload 2"
   ]
  },
  {
   "cell_type": "code",
   "execution_count": 2,
   "metadata": {
    "collapsed": false
   },
   "outputs": [
    {
     "name": "stderr",
     "output_type": "stream",
     "text": [
      "/Users/ericmjl/anaconda/lib/python3.4/site-packages/matplotlib/__init__.py:872: UserWarning: axes.color_cycle is deprecated and replaced with axes.prop_cycle; please use the latter.\n",
      "  warnings.warn(self.msg_depr % (key, alt_key))\n"
     ]
    }
   ],
   "source": [
    "import pandas as pd\n",
    "import matplotlib.pyplot as plt\n",
    "import numpy as np\n",
    "import seaborn as sns\n",
    "sns.set_style('white')\n",
    "\n",
    "from Bio import SeqIO\n",
    "from util.isoelectric_point import *  # imported from the 'util/' directory\n",
    "from sklearn.cross_validation import cross_val_score, ShuffleSplit, train_test_split\n",
    "from sklearn.ensemble import RandomForestRegressor\n",
    "from sklearn.metrics import mean_squared_error as mse"
   ]
  },
  {
   "cell_type": "code",
   "execution_count": 3,
   "metadata": {
    "collapsed": false
   },
   "outputs": [
    {
     "name": "stdout",
     "output_type": "stream",
     "text": [
      "20150902_nnet_ha.fasta                hiv-nnrt-data.csv                     hiv-protease-data-expanded.csv        hiv-protease.pdb\r\n",
      "HIV-1_pol.fasta                       hiv-nrt-data.csv                      hiv-protease-data.csv                 hiv-rt-consensus.fasta\r\n",
      "amino_acid_properties.csv             hiv-protease-consensus.fasta          hiv-protease-sequences-expanded.fasta\r\n"
     ]
    }
   ],
   "source": [
    "# List the files present in the \"data\" folder\n",
    "! ls data/"
   ]
  },
  {
   "cell_type": "code",
   "execution_count": 4,
   "metadata": {
    "collapsed": false
   },
   "outputs": [
    {
     "data": {
      "text/html": [
       "<div>\n",
       "<table border=\"1\" class=\"dataframe\">\n",
       "  <thead>\n",
       "    <tr style=\"text-align: right;\">\n",
       "      <th></th>\n",
       "      <th>ATV</th>\n",
       "      <th>DRV</th>\n",
       "      <th>FPV</th>\n",
       "      <th>IDV</th>\n",
       "      <th>LPV</th>\n",
       "      <th>NFV</th>\n",
       "      <th>SQV</th>\n",
       "      <th>SeqID</th>\n",
       "      <th>TPV</th>\n",
       "      <th>sequence</th>\n",
       "      <th>sequence_object</th>\n",
       "      <th>weight</th>\n",
       "    </tr>\n",
       "    <tr>\n",
       "      <th>seqid</th>\n",
       "      <th></th>\n",
       "      <th></th>\n",
       "      <th></th>\n",
       "      <th></th>\n",
       "      <th></th>\n",
       "      <th></th>\n",
       "      <th></th>\n",
       "      <th></th>\n",
       "      <th></th>\n",
       "      <th></th>\n",
       "      <th></th>\n",
       "      <th></th>\n",
       "    </tr>\n",
       "  </thead>\n",
       "  <tbody>\n",
       "    <tr>\n",
       "      <th>2996-0</th>\n",
       "      <td>NaN</td>\n",
       "      <td>NaN</td>\n",
       "      <td>0.397940</td>\n",
       "      <td>1.212188</td>\n",
       "      <td>NaN</td>\n",
       "      <td>1.586587</td>\n",
       "      <td>1.206826</td>\n",
       "      <td>2996</td>\n",
       "      <td>NaN</td>\n",
       "      <td>PQITLWQRPIVTIKIGGQLKEALLDTGADDTVLEDVNLPGRWKPKM...</td>\n",
       "      <td>ID: 2996-0\\nName: &lt;unknown name&gt;\\nDescription:...</td>\n",
       "      <td>0.50</td>\n",
       "    </tr>\n",
       "    <tr>\n",
       "      <th>2996-1</th>\n",
       "      <td>NaN</td>\n",
       "      <td>NaN</td>\n",
       "      <td>0.397940</td>\n",
       "      <td>1.212188</td>\n",
       "      <td>NaN</td>\n",
       "      <td>1.586587</td>\n",
       "      <td>1.206826</td>\n",
       "      <td>2996</td>\n",
       "      <td>NaN</td>\n",
       "      <td>PQITLWQRPIVTIKIGGQLKEALLDTGADDTVLEDVNLPGRWKPKM...</td>\n",
       "      <td>ID: 2996-1\\nName: &lt;unknown name&gt;\\nDescription:...</td>\n",
       "      <td>0.50</td>\n",
       "    </tr>\n",
       "    <tr>\n",
       "      <th>4387-0</th>\n",
       "      <td>NaN</td>\n",
       "      <td>NaN</td>\n",
       "      <td>-0.154902</td>\n",
       "      <td>-0.096910</td>\n",
       "      <td>NaN</td>\n",
       "      <td>-0.096910</td>\n",
       "      <td>0.041393</td>\n",
       "      <td>4387</td>\n",
       "      <td>NaN</td>\n",
       "      <td>PQITLWQRPLVTIKVGGQLKEALLDTGADDTVLEDMELPGRWKPKM...</td>\n",
       "      <td>ID: 4387-0\\nName: &lt;unknown name&gt;\\nDescription:...</td>\n",
       "      <td>0.25</td>\n",
       "    </tr>\n",
       "    <tr>\n",
       "      <th>4387-1</th>\n",
       "      <td>NaN</td>\n",
       "      <td>NaN</td>\n",
       "      <td>-0.154902</td>\n",
       "      <td>-0.096910</td>\n",
       "      <td>NaN</td>\n",
       "      <td>-0.096910</td>\n",
       "      <td>0.041393</td>\n",
       "      <td>4387</td>\n",
       "      <td>NaN</td>\n",
       "      <td>PQITLWQRPLVTIKVGGQLKEALLDTGADDTVLEDMELPGRWKPKM...</td>\n",
       "      <td>ID: 4387-1\\nName: &lt;unknown name&gt;\\nDescription:...</td>\n",
       "      <td>0.25</td>\n",
       "    </tr>\n",
       "    <tr>\n",
       "      <th>4387-2</th>\n",
       "      <td>NaN</td>\n",
       "      <td>NaN</td>\n",
       "      <td>-0.154902</td>\n",
       "      <td>-0.096910</td>\n",
       "      <td>NaN</td>\n",
       "      <td>-0.096910</td>\n",
       "      <td>0.041393</td>\n",
       "      <td>4387</td>\n",
       "      <td>NaN</td>\n",
       "      <td>PQITLWQRPLVTIKVGGQLKEALLDTGADDTVLEDMELPGRWKPKM...</td>\n",
       "      <td>ID: 4387-2\\nName: &lt;unknown name&gt;\\nDescription:...</td>\n",
       "      <td>0.25</td>\n",
       "    </tr>\n",
       "  </tbody>\n",
       "</table>\n",
       "</div>"
      ],
      "text/plain": [
       "        ATV  DRV       FPV       IDV  LPV       NFV       SQV  SeqID  TPV  \\\n",
       "seqid                                                                       \n",
       "2996-0  NaN  NaN  0.397940  1.212188  NaN  1.586587  1.206826   2996  NaN   \n",
       "2996-1  NaN  NaN  0.397940  1.212188  NaN  1.586587  1.206826   2996  NaN   \n",
       "4387-0  NaN  NaN -0.154902 -0.096910  NaN -0.096910  0.041393   4387  NaN   \n",
       "4387-1  NaN  NaN -0.154902 -0.096910  NaN -0.096910  0.041393   4387  NaN   \n",
       "4387-2  NaN  NaN -0.154902 -0.096910  NaN -0.096910  0.041393   4387  NaN   \n",
       "\n",
       "                                                 sequence  \\\n",
       "seqid                                                       \n",
       "2996-0  PQITLWQRPIVTIKIGGQLKEALLDTGADDTVLEDVNLPGRWKPKM...   \n",
       "2996-1  PQITLWQRPIVTIKIGGQLKEALLDTGADDTVLEDVNLPGRWKPKM...   \n",
       "4387-0  PQITLWQRPLVTIKVGGQLKEALLDTGADDTVLEDMELPGRWKPKM...   \n",
       "4387-1  PQITLWQRPLVTIKVGGQLKEALLDTGADDTVLEDMELPGRWKPKM...   \n",
       "4387-2  PQITLWQRPLVTIKVGGQLKEALLDTGADDTVLEDMELPGRWKPKM...   \n",
       "\n",
       "                                          sequence_object  weight  \n",
       "seqid                                                              \n",
       "2996-0  ID: 2996-0\\nName: <unknown name>\\nDescription:...    0.50  \n",
       "2996-1  ID: 2996-1\\nName: <unknown name>\\nDescription:...    0.50  \n",
       "4387-0  ID: 4387-0\\nName: <unknown name>\\nDescription:...    0.25  \n",
       "4387-1  ID: 4387-1\\nName: <unknown name>\\nDescription:...    0.25  \n",
       "4387-2  ID: 4387-2\\nName: <unknown name>\\nDescription:...    0.25  "
      ]
     },
     "execution_count": 4,
     "metadata": {},
     "output_type": "execute_result"
    }
   ],
   "source": [
    "# Load the protease resistance data into memory.\n",
    "resistance = pd.read_csv('data/hiv-protease-data-expanded.csv', index_col=0)\n",
    "drug_cols = ['NFV', 'SQV', 'FPV', 'IDV', 'LPV', 'ATV', 'TPV', 'DRV']\n",
    "resistance.set_index('seqid', inplace=True)\n",
    "resistance[drug_cols] = resistance[drug_cols].apply(np.log10)\n",
    "resistance.head()"
   ]
  },
  {
   "cell_type": "code",
   "execution_count": 5,
   "metadata": {
    "collapsed": false
   },
   "outputs": [
    {
     "data": {
      "text/plain": [
       "NFV     111\n",
       "SQV     316\n",
       "FPV     319\n",
       "IDV     325\n",
       "LPV     930\n",
       "ATV    1928\n",
       "TPV    2650\n",
       "DRV    4141\n",
       "dtype: int64"
      ]
     },
     "execution_count": 5,
     "metadata": {},
     "output_type": "execute_result"
    }
   ],
   "source": [
    "# Count the number of NaNs in each of the drug resistance columns.\n",
    "pd.isnull(resistance[drug_cols]).sum().sort_values()"
   ]
  },
  {
   "cell_type": "code",
   "execution_count": 6,
   "metadata": {
    "collapsed": false
   },
   "outputs": [],
   "source": [
    "# Convert the FASTA file of sequences into a pandas dataframe.\n",
    "sequences = [np.array(s) for s in SeqIO.parse('data/hiv-protease-sequences-expanded.fasta', 'fasta')]\n",
    "seqids = [s.id for s in SeqIO.parse('data/hiv-protease-sequences-expanded.fasta', 'fasta')]\n",
    "sequences = pd.DataFrame(sequences)\n",
    "sequences.index = seqids\n",
    "\n",
    "# Because there's a lower-case character somewhere, force all of the characters to be upper-case.\n",
    "for col in sequences.columns:\n",
    "    sequences[col] = sequences[col].apply(lambda x: str(x).upper())"
   ]
  },
  {
   "cell_type": "code",
   "execution_count": 7,
   "metadata": {
    "collapsed": false
   },
   "outputs": [],
   "source": [
    "# Commands to inspect the utility scripts\n",
    "# ! ls util/\n",
    "# ! cat util/isoelectric_point.py"
   ]
  },
  {
   "cell_type": "code",
   "execution_count": 8,
   "metadata": {
    "collapsed": false
   },
   "outputs": [],
   "source": [
    "# Replace the letters with amino acid pKas\n",
    "pKa_features = sequences.replace(isoelectric_points.keys(), isoelectric_points.values()).replace('*', np.nan)\n",
    "# The command to join in any arbitrary drug resistance column is shown below.\n",
    "# sequences.join(resistance['FPV'])"
   ]
  },
  {
   "cell_type": "code",
   "execution_count": 16,
   "metadata": {
    "collapsed": false,
    "scrolled": false
   },
   "outputs": [
    {
     "data": {
      "text/plain": [
       "0.08108736814981779"
      ]
     },
     "execution_count": 16,
     "metadata": {},
     "output_type": "execute_result"
    }
   ],
   "source": [
    "# Join in the resistance data for FPV\n",
    "\n",
    "# Tunable parameters\n",
    "X_cols = [i for i in range(0,99)]\n",
    "drug = 'NFV'\n",
    "weight_col = 'weight'\n",
    "\n",
    "# Get the final data matrix, and split into X and Y\n",
    "data_matrix = pKa_features.join(resistance[[drug, weight_col]]).dropna()\n",
    "X = data_matrix[X_cols]\n",
    "Y = data_matrix[drug]\n",
    "W = data_matrix[weight_col]\n",
    "\n",
    "# Perform a train/test split\n",
    "cv = ShuffleSplit(n=len(X), n_iter=10, test_size=0.2)\n",
    "\n",
    "X_train, X_test, Y_train, Y_test = train_test_split(X, Y, test_size=0.2)\n",
    "\n",
    "# Compute the following:\n",
    "mdl = RandomForestRegressor(n_estimators=100)\n",
    "\n",
    "# Compute the score as the mean absolute error\n",
    "scores = cross_val_score(mdl, X, Y, cv=cv, scoring='mean_absolute_error')\n",
    "np.abs(np.mean(scores))"
   ]
  },
  {
   "cell_type": "code",
   "execution_count": 19,
   "metadata": {
    "collapsed": false
   },
   "outputs": [],
   "source": [
    "# Do a fit/predict on the X and Y matrices.\n",
    "mdl = RandomForestRegressor(n_estimators=100)\n",
    "mdl.fit(X_train, Y_train, sample_weight=W.ix[X_train.index].values)\n",
    "preds = mdl.predict(X_test)\n",
    "score = mdl.score(X_test, Y_test)"
   ]
  },
  {
   "cell_type": "code",
   "execution_count": 20,
   "metadata": {
    "collapsed": false
   },
   "outputs": [
    {
     "data": {
      "text/plain": [
       "<matplotlib.text.Text at 0x116d4ecf8>"
      ]
     },
     "execution_count": 20,
     "metadata": {},
     "output_type": "execute_result"
    },
    {
     "data": {
      "image/png": "[encoded data removed]",
      "text/plain": [
       "<matplotlib.figure.Figure at 0x116d95860>"
      ]
     },
     "metadata": {},
     "output_type": "display_data"
    }
   ],
   "source": [
    "# Plot the predicted against actual.\n",
    "fig = plt.figure(figsize=(4,4))\n",
    "plt.scatter(Y_test, preds)\n",
    "# plt.hexbin(Y_test, preds, C=None, gridsize=100, scale='log')\n",
    "plt.xlabel('Actual')\n",
    "plt.ylabel('Predicted')\n",
    "plt.plot([-0.5,2.5], [-0.5,2.5], color='r', lw=3)\n",
    "plt.annotate('r2: {0:.02f}'.format(score), xy=(2,0))\n",
    "plt.title('{0}, mse: {1:.03f}'.format(drug, mse(preds, Y_test)))"
   ]
  },
  {
   "cell_type": "code",
   "execution_count": 21,
   "metadata": {
    "collapsed": false
   },
   "outputs": [
    {
     "name": "stdout",
     "output_type": "stream",
     "text": [
      "The actual mean error is:\n"
     ]
    },
    {
     "data": {
      "text/plain": [
       "1.2052783849700472"
      ]
     },
     "execution_count": 21,
     "metadata": {},
     "output_type": "execute_result"
    }
   ],
   "source": [
    "# The average MSE is 0.02, which is in log-transformed units.\n",
    "# The average mean absolute error is 0.08\n",
    "# What is the actual mean error in non log-transformed units?\n",
    "print('The actual mean error is:')\n",
    "np.power(10, np.abs(np.mean(scores)))"
   ]
  },
  {
   "cell_type": "markdown",
   "metadata": {},
   "source": [
    "## Position Importance?\n",
    "\n",
    "Can we gain an insight into the importance of a given position? Let's plot the feature importances."
   ]
  },
  {
   "cell_type": "code",
   "execution_count": 23,
   "metadata": {
    "collapsed": false
   },
   "outputs": [
    {
     "data": {
      "text/plain": [
       "[<matplotlib.lines.Line2D at 0x117692908>]"
      ]
     },
     "execution_count": 23,
     "metadata": {},
     "output_type": "execute_result"
    },
    {
     "data": {
      "image/png": "[encoded data removed]",
      "text/plain": [
       "<matplotlib.figure.Figure at 0x117604a90>"
      ]
     },
     "metadata": {},
     "output_type": "display_data"
    }
   ],
   "source": [
    "plt.plot(mdl.feature_importances_)"
   ]
  },
  {
   "cell_type": "markdown",
   "metadata": {},
   "source": [
    "Can we extract which positions' pKa values are associated with a high drug resistance?"
   ]
  },
  {
   "cell_type": "code",
   "execution_count": null,
   "metadata": {
    "collapsed": true
   },
   "outputs": [],
   "source": []
  },
  {
   "cell_type": "markdown",
   "metadata": {},
   "source": [
    "## Conclusions\n",
    "\n",
    "With the Random Forest Regressor, using pKa values as sequence features, we can successfully predict the virus' drug resistance with an average of 1 drug resistance value error."
   ]
  },
  {
   "cell_type": "code",
   "execution_count": null,
   "metadata": {
    "collapsed": true
   },
   "outputs": [],
   "source": []
  }
 ],
 "metadata": {
  "kernelspec": {
   "display_name": "Python 3",
   "language": "python",
   "name": "python3"
  },
  "language_info": {
   "codemirror_mode": {
    "name": "ipython",
    "version": 3
   },
   "file_extension": ".py",
   "mimetype": "text/x-python",
   "name": "python",
   "nbconvert_exporter": "python",
   "pygments_lexer": "ipython3",
   "version": "3.4.4"
  }
 },
 "nbformat": 4,
 "nbformat_minor": 0
}
