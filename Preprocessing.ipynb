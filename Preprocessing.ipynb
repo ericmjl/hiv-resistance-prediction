{
 "cells": [
  {
   "cell_type": "markdown",
   "metadata": {},
   "source": [
    "# Purpose\n",
    "\n",
    "The purpose of this notebook is to expand the sequence dataset.\n",
    "\n",
    "In the past, I had ignored sequences that had multiple ambiguous possibilities, which were associated with a single number. Here, I will assume that the sequences that are ambiguous are contributing equally to the predicted resistance number."
   ]
  },
  {
   "cell_type": "code",
   "execution_count": 1,
   "metadata": {
    "collapsed": true
   },
   "outputs": [],
   "source": [
    "import pandas as pd\n",
    "import itertools as it\n",
    "\n",
    "from Bio import SeqIO\n",
    "from Bio.Seq import Seq\n",
    "from Bio.SeqRecord import SeqRecord\n",
    "from Bio.Alphabet import ProteinAlphabet\n",
    "from collections import Counter\n",
    "from copy import deepcopy\n",
    "from tqdm import tqdm\n",
    "\n",
    "%matplotlib inline"
   ]
  },
  {
   "cell_type": "markdown",
   "metadata": {},
   "source": [
    "## Read in data"
   ]
  },
  {
   "cell_type": "code",
   "execution_count": 2,
   "metadata": {
    "collapsed": false
   },
   "outputs": [
    {
     "data": {
      "text/html": [
       "<div>\n",
       "<table border=\"1\" class=\"dataframe\">\n",
       "  <thead>\n",
       "    <tr style=\"text-align: right;\">\n",
       "      <th></th>\n",
       "      <th>P1</th>\n",
       "      <th>P2</th>\n",
       "      <th>P3</th>\n",
       "      <th>P4</th>\n",
       "      <th>P5</th>\n",
       "      <th>P6</th>\n",
       "      <th>P7</th>\n",
       "      <th>P8</th>\n",
       "      <th>P9</th>\n",
       "      <th>P10</th>\n",
       "      <th>...</th>\n",
       "      <th>P90</th>\n",
       "      <th>P91</th>\n",
       "      <th>P92</th>\n",
       "      <th>P93</th>\n",
       "      <th>P94</th>\n",
       "      <th>P95</th>\n",
       "      <th>P96</th>\n",
       "      <th>P97</th>\n",
       "      <th>P98</th>\n",
       "      <th>P99</th>\n",
       "    </tr>\n",
       "    <tr>\n",
       "      <th>SeqID</th>\n",
       "      <th></th>\n",
       "      <th></th>\n",
       "      <th></th>\n",
       "      <th></th>\n",
       "      <th></th>\n",
       "      <th></th>\n",
       "      <th></th>\n",
       "      <th></th>\n",
       "      <th></th>\n",
       "      <th></th>\n",
       "      <th></th>\n",
       "      <th></th>\n",
       "      <th></th>\n",
       "      <th></th>\n",
       "      <th></th>\n",
       "      <th></th>\n",
       "      <th></th>\n",
       "      <th></th>\n",
       "      <th></th>\n",
       "      <th></th>\n",
       "      <th></th>\n",
       "    </tr>\n",
       "  </thead>\n",
       "  <tbody>\n",
       "    <tr>\n",
       "      <th>2996</th>\n",
       "      <td>-</td>\n",
       "      <td>-</td>\n",
       "      <td>-</td>\n",
       "      <td>-</td>\n",
       "      <td>-</td>\n",
       "      <td>-</td>\n",
       "      <td>-</td>\n",
       "      <td>-</td>\n",
       "      <td>-</td>\n",
       "      <td>I</td>\n",
       "      <td>...</td>\n",
       "      <td>M</td>\n",
       "      <td>-</td>\n",
       "      <td>-</td>\n",
       "      <td>L</td>\n",
       "      <td>-</td>\n",
       "      <td>-</td>\n",
       "      <td>-</td>\n",
       "      <td>-</td>\n",
       "      <td>-</td>\n",
       "      <td>-</td>\n",
       "    </tr>\n",
       "    <tr>\n",
       "      <th>4387</th>\n",
       "      <td>-</td>\n",
       "      <td>-</td>\n",
       "      <td>-</td>\n",
       "      <td>-</td>\n",
       "      <td>-</td>\n",
       "      <td>-</td>\n",
       "      <td>-</td>\n",
       "      <td>-</td>\n",
       "      <td>-</td>\n",
       "      <td>-</td>\n",
       "      <td>...</td>\n",
       "      <td>-</td>\n",
       "      <td>-</td>\n",
       "      <td>-</td>\n",
       "      <td>-</td>\n",
       "      <td>-</td>\n",
       "      <td>-</td>\n",
       "      <td>-</td>\n",
       "      <td>-</td>\n",
       "      <td>-</td>\n",
       "      <td>-</td>\n",
       "    </tr>\n",
       "    <tr>\n",
       "      <th>4426</th>\n",
       "      <td>-</td>\n",
       "      <td>-</td>\n",
       "      <td>-</td>\n",
       "      <td>-</td>\n",
       "      <td>-</td>\n",
       "      <td>-</td>\n",
       "      <td>-</td>\n",
       "      <td>-</td>\n",
       "      <td>-</td>\n",
       "      <td>I</td>\n",
       "      <td>...</td>\n",
       "      <td>-</td>\n",
       "      <td>-</td>\n",
       "      <td>-</td>\n",
       "      <td>L</td>\n",
       "      <td>-</td>\n",
       "      <td>-</td>\n",
       "      <td>-</td>\n",
       "      <td>-</td>\n",
       "      <td>-</td>\n",
       "      <td>-</td>\n",
       "    </tr>\n",
       "    <tr>\n",
       "      <th>4432</th>\n",
       "      <td>-</td>\n",
       "      <td>-</td>\n",
       "      <td>-</td>\n",
       "      <td>-</td>\n",
       "      <td>-</td>\n",
       "      <td>-</td>\n",
       "      <td>-</td>\n",
       "      <td>-</td>\n",
       "      <td>-</td>\n",
       "      <td>-</td>\n",
       "      <td>...</td>\n",
       "      <td>-</td>\n",
       "      <td>-</td>\n",
       "      <td>-</td>\n",
       "      <td>-</td>\n",
       "      <td>-</td>\n",
       "      <td>-</td>\n",
       "      <td>-</td>\n",
       "      <td>-</td>\n",
       "      <td>-</td>\n",
       "      <td>-</td>\n",
       "    </tr>\n",
       "    <tr>\n",
       "      <th>4482</th>\n",
       "      <td>-</td>\n",
       "      <td>-</td>\n",
       "      <td>-</td>\n",
       "      <td>-</td>\n",
       "      <td>-</td>\n",
       "      <td>-</td>\n",
       "      <td>-</td>\n",
       "      <td>-</td>\n",
       "      <td>-</td>\n",
       "      <td>V</td>\n",
       "      <td>...</td>\n",
       "      <td>M</td>\n",
       "      <td>-</td>\n",
       "      <td>-</td>\n",
       "      <td>L</td>\n",
       "      <td>-</td>\n",
       "      <td>-</td>\n",
       "      <td>-</td>\n",
       "      <td>-</td>\n",
       "      <td>-</td>\n",
       "      <td>-</td>\n",
       "    </tr>\n",
       "  </tbody>\n",
       "</table>\n",
       "<p>5 rows × 99 columns</p>\n",
       "</div>"
      ],
      "text/plain": [
       "      P1 P2 P3 P4 P5 P6 P7 P8 P9 P10 ... P90 P91 P92 P93 P94 P95 P96 P97 P98  \\\n",
       "SeqID                                ...                                       \n",
       "2996   -  -  -  -  -  -  -  -  -   I ...   M   -   -   L   -   -   -   -   -   \n",
       "4387   -  -  -  -  -  -  -  -  -   - ...   -   -   -   -   -   -   -   -   -   \n",
       "4426   -  -  -  -  -  -  -  -  -   I ...   -   -   -   L   -   -   -   -   -   \n",
       "4432   -  -  -  -  -  -  -  -  -   - ...   -   -   -   -   -   -   -   -   -   \n",
       "4482   -  -  -  -  -  -  -  -  -   V ...   M   -   -   L   -   -   -   -   -   \n",
       "\n",
       "      P99  \n",
       "SeqID      \n",
       "2996    -  \n",
       "4387    -  \n",
       "4426    -  \n",
       "4432    -  \n",
       "4482    -  \n",
       "\n",
       "[5 rows x 99 columns]"
      ]
     },
     "execution_count": 2,
     "metadata": {},
     "output_type": "execute_result"
    }
   ],
   "source": [
    "# Read in the genotype-phenotype data\n",
    "data = pd.read_csv('data/hiv-protease-data.csv', index_col='SeqID')\n",
    "seq_cols = ['P{0}'.format(i) for i in range(1,100)]\n",
    "drug_cols = data.columns[0:8]\n",
    "data.replace('.', '-', inplace=True)\n",
    "data[seq_cols].head()"
   ]
  },
  {
   "cell_type": "code",
   "execution_count": 3,
   "metadata": {
    "collapsed": false
   },
   "outputs": [
    {
     "data": {
      "text/plain": [
       "'PQITLWQRPLVTIKIGGQLKEALLDTGADDTVLEEMNLPGRWKPKMIGGIGGFIKVRQYDQILIEICGHKAIGTVLVGPTPVNIIGRNLLTQIGCTLNF'"
      ]
     },
     "execution_count": 3,
     "metadata": {},
     "output_type": "execute_result"
    }
   ],
   "source": [
    "# Read in the consensus sequence\n",
    "consensus = SeqIO.read('data/hiv-protease-consensus.fasta', 'fasta')\n",
    "str(consensus.seq)"
   ]
  },
  {
   "cell_type": "code",
   "execution_count": 4,
   "metadata": {
    "collapsed": false
   },
   "outputs": [
    {
     "data": {
      "text/html": [
       "<div>\n",
       "<table border=\"1\" class=\"dataframe\">\n",
       "  <thead>\n",
       "    <tr style=\"text-align: right;\">\n",
       "      <th></th>\n",
       "      <th>P1</th>\n",
       "      <th>P2</th>\n",
       "      <th>P3</th>\n",
       "      <th>P4</th>\n",
       "      <th>P5</th>\n",
       "      <th>P6</th>\n",
       "      <th>P7</th>\n",
       "      <th>P8</th>\n",
       "      <th>P9</th>\n",
       "      <th>P10</th>\n",
       "      <th>...</th>\n",
       "      <th>P90</th>\n",
       "      <th>P91</th>\n",
       "      <th>P92</th>\n",
       "      <th>P93</th>\n",
       "      <th>P94</th>\n",
       "      <th>P95</th>\n",
       "      <th>P96</th>\n",
       "      <th>P97</th>\n",
       "      <th>P98</th>\n",
       "      <th>P99</th>\n",
       "    </tr>\n",
       "    <tr>\n",
       "      <th>SeqID</th>\n",
       "      <th></th>\n",
       "      <th></th>\n",
       "      <th></th>\n",
       "      <th></th>\n",
       "      <th></th>\n",
       "      <th></th>\n",
       "      <th></th>\n",
       "      <th></th>\n",
       "      <th></th>\n",
       "      <th></th>\n",
       "      <th></th>\n",
       "      <th></th>\n",
       "      <th></th>\n",
       "      <th></th>\n",
       "      <th></th>\n",
       "      <th></th>\n",
       "      <th></th>\n",
       "      <th></th>\n",
       "      <th></th>\n",
       "      <th></th>\n",
       "      <th></th>\n",
       "    </tr>\n",
       "  </thead>\n",
       "  <tbody>\n",
       "    <tr>\n",
       "      <th>2996</th>\n",
       "      <td>P</td>\n",
       "      <td>Q</td>\n",
       "      <td>I</td>\n",
       "      <td>T</td>\n",
       "      <td>L</td>\n",
       "      <td>W</td>\n",
       "      <td>Q</td>\n",
       "      <td>R</td>\n",
       "      <td>P</td>\n",
       "      <td>I</td>\n",
       "      <td>...</td>\n",
       "      <td>M</td>\n",
       "      <td>T</td>\n",
       "      <td>Q</td>\n",
       "      <td>L</td>\n",
       "      <td>G</td>\n",
       "      <td>C</td>\n",
       "      <td>T</td>\n",
       "      <td>L</td>\n",
       "      <td>N</td>\n",
       "      <td>F</td>\n",
       "    </tr>\n",
       "    <tr>\n",
       "      <th>4387</th>\n",
       "      <td>P</td>\n",
       "      <td>Q</td>\n",
       "      <td>I</td>\n",
       "      <td>T</td>\n",
       "      <td>L</td>\n",
       "      <td>W</td>\n",
       "      <td>Q</td>\n",
       "      <td>R</td>\n",
       "      <td>P</td>\n",
       "      <td>L</td>\n",
       "      <td>...</td>\n",
       "      <td>L</td>\n",
       "      <td>T</td>\n",
       "      <td>Q</td>\n",
       "      <td>I</td>\n",
       "      <td>G</td>\n",
       "      <td>C</td>\n",
       "      <td>T</td>\n",
       "      <td>L</td>\n",
       "      <td>N</td>\n",
       "      <td>F</td>\n",
       "    </tr>\n",
       "    <tr>\n",
       "      <th>4426</th>\n",
       "      <td>P</td>\n",
       "      <td>Q</td>\n",
       "      <td>I</td>\n",
       "      <td>T</td>\n",
       "      <td>L</td>\n",
       "      <td>W</td>\n",
       "      <td>Q</td>\n",
       "      <td>R</td>\n",
       "      <td>P</td>\n",
       "      <td>I</td>\n",
       "      <td>...</td>\n",
       "      <td>L</td>\n",
       "      <td>T</td>\n",
       "      <td>Q</td>\n",
       "      <td>L</td>\n",
       "      <td>G</td>\n",
       "      <td>C</td>\n",
       "      <td>T</td>\n",
       "      <td>L</td>\n",
       "      <td>N</td>\n",
       "      <td>F</td>\n",
       "    </tr>\n",
       "    <tr>\n",
       "      <th>4432</th>\n",
       "      <td>P</td>\n",
       "      <td>Q</td>\n",
       "      <td>I</td>\n",
       "      <td>T</td>\n",
       "      <td>L</td>\n",
       "      <td>W</td>\n",
       "      <td>Q</td>\n",
       "      <td>R</td>\n",
       "      <td>P</td>\n",
       "      <td>L</td>\n",
       "      <td>...</td>\n",
       "      <td>L</td>\n",
       "      <td>T</td>\n",
       "      <td>Q</td>\n",
       "      <td>I</td>\n",
       "      <td>G</td>\n",
       "      <td>C</td>\n",
       "      <td>T</td>\n",
       "      <td>L</td>\n",
       "      <td>N</td>\n",
       "      <td>F</td>\n",
       "    </tr>\n",
       "    <tr>\n",
       "      <th>4482</th>\n",
       "      <td>P</td>\n",
       "      <td>Q</td>\n",
       "      <td>I</td>\n",
       "      <td>T</td>\n",
       "      <td>L</td>\n",
       "      <td>W</td>\n",
       "      <td>Q</td>\n",
       "      <td>R</td>\n",
       "      <td>P</td>\n",
       "      <td>V</td>\n",
       "      <td>...</td>\n",
       "      <td>M</td>\n",
       "      <td>T</td>\n",
       "      <td>Q</td>\n",
       "      <td>L</td>\n",
       "      <td>G</td>\n",
       "      <td>C</td>\n",
       "      <td>T</td>\n",
       "      <td>L</td>\n",
       "      <td>N</td>\n",
       "      <td>F</td>\n",
       "    </tr>\n",
       "  </tbody>\n",
       "</table>\n",
       "<p>5 rows × 99 columns</p>\n",
       "</div>"
      ],
      "text/plain": [
       "      P1 P2 P3 P4 P5 P6 P7 P8 P9 P10 ... P90 P91 P92 P93 P94 P95 P96 P97 P98  \\\n",
       "SeqID                                ...                                       \n",
       "2996   P  Q  I  T  L  W  Q  R  P   I ...   M   T   Q   L   G   C   T   L   N   \n",
       "4387   P  Q  I  T  L  W  Q  R  P   L ...   L   T   Q   I   G   C   T   L   N   \n",
       "4426   P  Q  I  T  L  W  Q  R  P   I ...   L   T   Q   L   G   C   T   L   N   \n",
       "4432   P  Q  I  T  L  W  Q  R  P   L ...   L   T   Q   I   G   C   T   L   N   \n",
       "4482   P  Q  I  T  L  W  Q  R  P   V ...   M   T   Q   L   G   C   T   L   N   \n",
       "\n",
       "      P99  \n",
       "SeqID      \n",
       "2996    F  \n",
       "4387    F  \n",
       "4426    F  \n",
       "4432    F  \n",
       "4482    F  \n",
       "\n",
       "[5 rows x 99 columns]"
      ]
     },
     "execution_count": 4,
     "metadata": {},
     "output_type": "execute_result"
    }
   ],
   "source": [
    "# Replace dashes with consensus letters.\n",
    "for i, col in enumerate(seq_cols):\n",
    "    data[col] = data[col].replace('-', str(consensus.seq)[i])\n",
    "data[seq_cols].head()"
   ]
  },
  {
   "cell_type": "code",
   "execution_count": 5,
   "metadata": {
    "collapsed": true
   },
   "outputs": [],
   "source": [
    "def number_of_combinations(row):\n",
    "    nc = 1  # nc = \"number of combinations\"\n",
    "    for i in row:\n",
    "        nc = nc * len(i)\n",
    "        \n",
    "    return nc"
   ]
  },
  {
   "cell_type": "code",
   "execution_count": 6,
   "metadata": {
    "collapsed": false,
    "scrolled": true
   },
   "outputs": [
    {
     "data": {
      "text/plain": [
       "SeqID\n",
       "2996    2\n",
       "4387    4\n",
       "4426    1\n",
       "4432    1\n",
       "4482    2\n",
       "Name: num_combinations, dtype: int64"
      ]
     },
     "execution_count": 6,
     "metadata": {},
     "output_type": "execute_result"
    }
   ],
   "source": [
    "data['num_combinations'] = data[seq_cols].apply(lambda x: number_of_combinations(x), axis=1)\n",
    "data['has_multiple_mutations'] = data['num_combinations'] > 1\n",
    "counts = Counter(data['num_combinations'])\n",
    "data['num_combinations'].head()"
   ]
  },
  {
   "cell_type": "code",
   "execution_count": 12,
   "metadata": {
    "collapsed": false
   },
   "outputs": [
    {
     "data": {
      "text/plain": [
       "Counter({1: 871,\n",
       "         2: 367,\n",
       "         3: 4,\n",
       "         4: 210,\n",
       "         6: 11,\n",
       "         8: 122,\n",
       "         12: 14,\n",
       "         16: 73,\n",
       "         24: 10,\n",
       "         32: 49,\n",
       "         48: 7,\n",
       "         64: 21,\n",
       "         96: 8,\n",
       "         128: 17,\n",
       "         192: 2,\n",
       "         256: 5,\n",
       "         384: 2,\n",
       "         512: 5,\n",
       "         768: 2,\n",
       "         1024: 2,\n",
       "         2048: 2,\n",
       "         2304: 1,\n",
       "         3072: 1,\n",
       "         9216: 1,\n",
       "         16384: 1})"
      ]
     },
     "execution_count": 12,
     "metadata": {},
     "output_type": "execute_result"
    }
   ],
   "source": [
    "counts"
   ]
  },
  {
   "cell_type": "code",
   "execution_count": 22,
   "metadata": {
    "collapsed": false
   },
   "outputs": [
    {
     "name": "stdout",
     "output_type": "stream",
     "text": [
      "Coverage is 96.13%.\n"
     ]
    }
   ],
   "source": [
    "# We will only consider sequences for which less than 49 possible combinations may occur.\n",
    "# What percentage of the data will we cover?\n",
    "\n",
    "total = 0\n",
    "for count, num in counts.items():\n",
    "    if count < 49:\n",
    "        total += num\n",
    "print('Coverage is {0:.2f}%.'.format(total/sum(counts.values())*100))"
   ]
  },
  {
   "cell_type": "code",
   "execution_count": 23,
   "metadata": {
    "collapsed": false
   },
   "outputs": [
    {
     "data": {
      "text/plain": [
       "1738"
      ]
     },
     "execution_count": 23,
     "metadata": {},
     "output_type": "execute_result"
    }
   ],
   "source": [
    "# We will store this in a new variable called \"filtered\"\n",
    "filtered = data[data['num_combinations'] < 49]\n",
    "len(filtered)"
   ]
  },
  {
   "cell_type": "code",
   "execution_count": 26,
   "metadata": {
    "collapsed": false,
    "scrolled": false
   },
   "outputs": [
    {
     "name": "stderr",
     "output_type": "stream",
     "text": []
    }
   ],
   "source": [
    "# Expansion of columns will be done using the custom function below.\n",
    "# Pass in the entire dataframe.\n",
    "def iter_row(row):\n",
    "    \"\"\"\n",
    "    Iterates over every element in a row, and yields a list of that element.\n",
    "    \"\"\"\n",
    "    for i in row:\n",
    "        yield(list(i))\n",
    "\n",
    "def expand_mutations(row):\n",
    "    \"\"\"\n",
    "    Expands each row to the total number of possible combinations of sequences.\n",
    "    \n",
    "    Returns every combination of mutation.\n",
    "    \"\"\"\n",
    "    return list(it.product(*iter_row(row[seq_cols])))\n",
    "\n",
    "# Collate list of dictionaries to be used as the input to a new dataframe that contains all of the expanded mutations.\n",
    "expanded_data = []\n",
    "for seqid, row in tqdm(filtered.iterrows()):\n",
    "    \n",
    "    muts_to_consider = expand_mutations(row)\n",
    "    \n",
    "    for i, sequence in enumerate(muts_to_consider):\n",
    "        new_data = dict()\n",
    "        new_data['SeqID'] = seqid\n",
    "        for drug in drug_cols:\n",
    "            new_data[drug] = row[drug]\n",
    "\n",
    "        # print(i)\n",
    "        new_seq = ''\n",
    "        for s in sequence:\n",
    "            new_seq += s\n",
    "        new_data['sequence'] = new_seq\n",
    "        new_data['seqid'] = str(seqid) + '-' + str(i)\n",
    "        new_data['weight'] = 1 / len(muts_to_consider)\n",
    "        new_data['sequence_object'] = SeqRecord(Seq(new_seq, alphabet=ProteinAlphabet()), id='{0}-{1}'.format(seqid, i))\n",
    "        expanded_data.append(new_data)\n",
    "expanded_data = pd.DataFrame(expanded_data)\n",
    "expanded_data.to_csv('data/hiv-protease-data-expanded.csv')"
   ]
  },
  {
   "cell_type": "code",
   "execution_count": 28,
   "metadata": {
    "collapsed": false
   },
   "outputs": [
    {
     "data": {
      "text/plain": [
       "6979"
      ]
     },
     "execution_count": 28,
     "metadata": {},
     "output_type": "execute_result"
    }
   ],
   "source": [
    "SeqIO.write(expanded_data['sequence_object'].values, 'data/hiv-protease-sequences-expanded.fasta', 'fasta')"
   ]
  },
  {
   "cell_type": "code",
   "execution_count": null,
   "metadata": {
    "collapsed": true
   },
   "outputs": [],
   "source": []
  }
 ],
 "metadata": {
  "kernelspec": {
   "display_name": "Python 3",
   "language": "python",
   "name": "python3"
  },
  "language_info": {
   "codemirror_mode": {
    "name": "ipython",
    "version": 3
   },
   "file_extension": ".py",
   "mimetype": "text/x-python",
   "name": "python",
   "nbconvert_exporter": "python",
   "pygments_lexer": "ipython3",
   "version": "3.4.4"
  }
 },
 "nbformat": 4,
 "nbformat_minor": 0
}
