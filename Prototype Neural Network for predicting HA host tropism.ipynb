{
 "cells": [
  {
   "cell_type": "markdown",
   "metadata": {},
   "source": [
    "# Research Problem\n",
    "\n",
    "Last year, I read a paper titled, \"Feature Selection Methods for Identifying Genetic Determinants of Host Species in RNA Viruses\". This year, I read another paper titled, \"Predicting host tropism of influenza A virus proteins using random forest\". The essence of these papers were to predict influenza virus host tropism from sequence features. The particular feature engineering steps were somewhat distinct, in which the former used amino acid sequences encoded as binary 1/0s, while the latter used physiochemical characteristics of the amino acid sequences instead. However, the core problem was essentially identical - predict a host classification from influenza protein sequence features. Random forest classifiers were used in both papers, and is a powerful method for identifying non-linear mappings from features to class labels. My question here was to see if I could get comparable performance using a simple neural network.\n",
    "\n",
    "# Data\n",
    "\n",
    "I downloaded influenza HA sequences from the Influenza Research Database. Sequences dated from 1980 to 2015. Lab strains were excluded, duplicates allowed (captures host tropism of certain sequences). All viral subtypes were included.\n",
    "\n",
    "Below, let's take a deep dive into what it takes to construct an artificial neural network!"
   ]
  },
  {
   "cell_type": "markdown",
   "metadata": {},
   "source": [
    "The imports necessary for running this notebook."
   ]
  },
  {
   "cell_type": "code",
   "execution_count": 2,
   "metadata": {
    "collapsed": false
   },
   "outputs": [
    {
     "name": "stdout",
     "output_type": "stream",
     "text": [
      "/home/ericmjl/anaconda3/bin:/usr/lib64/qt-3.3/bin:/usr/local/bin:/usr/bin:/usr/local/sbin:/usr/sbin:/usr/local/cuda/bin:/home/ericmjl/.local/bin:/home/ericmjl/bin\n",
      "\n"
     ]
    }
   ],
   "source": [
    "! echo $PATH\n",
    "! echo $CUDA_ROOT"
   ]
  },
  {
   "cell_type": "code",
   "execution_count": 3,
   "metadata": {
    "collapsed": false,
    "scrolled": true
   },
   "outputs": [
    {
     "name": "stderr",
     "output_type": "stream",
     "text": [
      "Using gpu device 0: Quadro 2000\n"
     ]
    }
   ],
   "source": [
    "import pandas as pd\n",
    "import numpy as np\n",
    "from Bio import SeqIO\n",
    "from Bio import AlignIO\n",
    "from Bio.Align import MultipleSeqAlignment\n",
    "from collections import Counter\n",
    "from sklearn.preprocessing import LabelBinarizer\n",
    "from sklearn.cross_validation import train_test_split\n",
    "from sklearn.ensemble import RandomForestClassifier, ExtraTreesClassifier, GradientBoostingClassifier\n",
    "from sklearn.metrics import mutual_info_score as mi\n",
    "\n",
    "from lasagne import layers\n",
    "from lasagne.updates import nesterov_momentum\n",
    "from nolearn.lasagne import NeuralNet\n",
    "import theano"
   ]
  },
  {
   "cell_type": "markdown",
   "metadata": {},
   "source": [
    "Read in the viral sequences."
   ]
  },
  {
   "cell_type": "code",
   "execution_count": 4,
   "metadata": {
    "collapsed": false
   },
   "outputs": [],
   "source": [
    "sequences = SeqIO.to_dict(SeqIO.parse('20150902_nnet_ha.fasta', 'fasta'))\n",
    "# sequences"
   ]
  },
  {
   "cell_type": "markdown",
   "metadata": {},
   "source": [
    "The sequences are going to be of variable length. To avoid the problem of doing multiple sequence alignments, filter to just the most common length (i.e. 566 amino acids)."
   ]
  },
  {
   "cell_type": "code",
   "execution_count": 5,
   "metadata": {
    "collapsed": false
   },
   "outputs": [
    {
     "data": {
      "text/plain": [
       "566"
      ]
     },
     "execution_count": 5,
     "metadata": {},
     "output_type": "execute_result"
    }
   ],
   "source": [
    "lengths = Counter()\n",
    "for accession, seqrecord in sequences.items():\n",
    "    lengths[len(seqrecord.seq)] += 1\n",
    "    \n",
    "lengths.most_common(1)[0][0]"
   ]
  },
  {
   "cell_type": "markdown",
   "metadata": {},
   "source": [
    "There are sequences that are ambiguously labeled. For example, \"Environment\" and \"Avian\" samples. We would like to give a more detailed prediction as to which hosts it likely came from. Therefore, take out the \"Environment\" and \"Avian\" samples."
   ]
  },
  {
   "cell_type": "code",
   "execution_count": 6,
   "metadata": {
    "collapsed": true
   },
   "outputs": [],
   "source": [
    "# For convenience, we will only work with amino acid sequencees of length 566.\n",
    "final_sequences = dict()\n",
    "for accession, seqrecord in sequences.items():\n",
    "    host = seqrecord.id.split('|')[1]\n",
    "    if len(seqrecord.seq) == lengths.most_common(1)[0][0]:\n",
    "        final_sequences[accession] = seqrecord"
   ]
  },
  {
   "cell_type": "markdown",
   "metadata": {},
   "source": [
    "Create a `numpy` array to store the alignment."
   ]
  },
  {
   "cell_type": "code",
   "execution_count": 7,
   "metadata": {
    "collapsed": false
   },
   "outputs": [],
   "source": [
    "alignment = MultipleSeqAlignment(final_sequences.values())\n",
    "alignment_array = np.array([list(rec) for rec in alignment])"
   ]
  },
  {
   "cell_type": "markdown",
   "metadata": {},
   "source": [
    "The first piece of meat in the code begins here. In the cell below, we convert the sequence matrix into a series of binary `1`s and `0`s, to encode the features as numbers. This is important - AFAIK, almost all machine learning algorithms require numerical inputs."
   ]
  },
  {
   "cell_type": "code",
   "execution_count": 8,
   "metadata": {
    "collapsed": false
   },
   "outputs": [],
   "source": [
    "# Create an empty dataframe.\n",
    "# df = pd.DataFrame()\n",
    "\n",
    "# # Create a dictionary of position + label binarizer objects.\n",
    "# pos_lb = dict()\n",
    "\n",
    "# for pos in range(lengths.most_common(1)[0][0]):\n",
    "#     # Convert position 0 by binarization.\n",
    "#     lb = LabelBinarizer()\n",
    "#     # Fit to the alignment at that position.\n",
    "#     lb.fit(alignment_array[:,pos])\n",
    "#     # Add the label binarizer to the dictionary.\n",
    "#     pos_lb[pos] = lb\n",
    "#     # Create a dataframe.\n",
    "#     pos = pd.DataFrame(lb.transform(alignment_array[:,pos]))\n",
    "\n",
    "#     # Append the columns to the dataframe.\n",
    "#     for col in pos.columns:\n",
    "#         maxcol = len(df.columns)\n",
    "#         df[maxcol + 1] = pos[col]\n",
    "from isoelectric_point import isoelectric_points\n",
    "df = pd.DataFrame(alignment_array).replace(isoelectric_points)"
   ]
  },
  {
   "cell_type": "code",
   "execution_count": 9,
   "metadata": {
    "collapsed": false,
    "scrolled": true
   },
   "outputs": [],
   "source": [
    "# Add in host data\n",
    "df['host'] = [s.id.split('|')[1] for s in final_sequences.values()]\n",
    "df = df.replace({'X':np.nan, 'J':np.nan, 'B':np.nan, 'Z':np.nan})\n",
    "df.dropna(inplace=True)\n",
    "df.to_csv('isoelectric_point_data.csv')"
   ]
  },
  {
   "cell_type": "code",
   "execution_count": 10,
   "metadata": {
    "collapsed": false,
    "scrolled": true
   },
   "outputs": [],
   "source": [
    "# Normalize data to between 0 and 1.\n",
    "from sklearn.preprocessing import StandardScaler\n",
    "\n",
    "df_std = pd.DataFrame(StandardScaler().fit_transform(df.ix[:,:-1]))\n",
    "df_std['host'] = df['host']"
   ]
  },
  {
   "cell_type": "code",
   "execution_count": 11,
   "metadata": {
    "collapsed": false
   },
   "outputs": [
    {
     "name": "stderr",
     "output_type": "stream",
     "text": [
      "/home/ericmjl/anaconda3/lib/python3.4/site-packages/ipykernel/__main__.py:6: SettingWithCopyWarning: \n",
      "A value is trying to be set on a copy of a slice from a DataFrame\n",
      "\n",
      "See the the caveats in the documentation: http://pandas.pydata.org/pandas-docs/stable/indexing.html#indexing-view-versus-copy\n"
     ]
    }
   ],
   "source": [
    "ambiguous_hosts = ['Environment', 'Avian', 'Unknown', 'NA', 'Bird', 'Sea_Mammal', 'Aquatic_Bird']\n",
    "\n",
    "unknowns = df_std[df_std['host'].isin(ambiguous_hosts)]\n",
    "\n",
    "train_test_df = df_std[df_std['host'].isin(ambiguous_hosts) == False]\n",
    "train_test_df.dropna(inplace=True)"
   ]
  },
  {
   "cell_type": "markdown",
   "metadata": {},
   "source": [
    "With the cell above, we now have a sequence feature matrix, in which the 566 amino acids positions have been expanded to 6750 columns of binary sequence features.\n",
    "\n",
    "The next step is to grab out the host species labels, and encode them as 1s and 0s as well."
   ]
  },
  {
   "cell_type": "code",
   "execution_count": 12,
   "metadata": {
    "collapsed": false
   },
   "outputs": [
    {
     "data": {
      "text/plain": [
       "{'American_Black_Duck',\n",
       " 'American_Green_Winged_Teal',\n",
       " 'American_Widgeon',\n",
       " 'American_Wigeon',\n",
       " 'Bald_Eagle',\n",
       " 'Bantam',\n",
       " \"Bewick'S_Swan\",\n",
       " 'Black_Duck',\n",
       " 'Black_Headed_Gull',\n",
       " 'Black_Scoter',\n",
       " 'Blue_Winged_Teal',\n",
       " 'Blue_Winged_Teal_',\n",
       " 'Bufflehead',\n",
       " 'Canada_Goose',\n",
       " 'Canvasback',\n",
       " 'Chicken',\n",
       " 'Cinnamon_Teal',\n",
       " 'Common_Coot',\n",
       " 'Common_Eider',\n",
       " 'Common_Goldeneye',\n",
       " 'Common_Murre',\n",
       " 'Dog',\n",
       " 'Domestic_Cat',\n",
       " 'Double_Crested_Cormorant',\n",
       " 'Duck',\n",
       " 'Dunlin',\n",
       " 'Eurasian_Teal',\n",
       " 'Eurasian_Wigeon',\n",
       " 'Ferret',\n",
       " 'Gadwall',\n",
       " 'Garganey',\n",
       " 'Glaucous_Gull',\n",
       " 'Goose',\n",
       " 'Greater_White_Fronted_Goose',\n",
       " 'Grebe',\n",
       " 'Green_Winged_Teal',\n",
       " 'Guineafowl',\n",
       " 'Gull',\n",
       " 'Herring_Gull',\n",
       " 'Hooded_Merganser',\n",
       " 'Human',\n",
       " 'Knot',\n",
       " 'LAB',\n",
       " 'Large_Cat',\n",
       " 'Laughing_Gull',\n",
       " 'Lesser_Scaup',\n",
       " 'Long_Tailed_Duck',\n",
       " 'Mallard',\n",
       " 'Mallard_Black_Duck_Hybrid',\n",
       " 'Mallard_Duck',\n",
       " 'Mew_Gull',\n",
       " 'Mink',\n",
       " 'Murre',\n",
       " 'Muscovy_Duck',\n",
       " 'Northern_Pintail',\n",
       " 'Northern_Shoveler',\n",
       " 'Ostrich',\n",
       " 'Pacific_Golden_Plover',\n",
       " 'Panda',\n",
       " 'Pelican',\n",
       " 'Pig',\n",
       " 'Pigeon',\n",
       " 'Pink_Footed_Goose',\n",
       " 'Pintail',\n",
       " 'Poultry',\n",
       " 'Quail',\n",
       " 'Red_Crested_Pochard',\n",
       " 'Red_Knot',\n",
       " 'Red_Necked_Stint',\n",
       " 'Redhead',\n",
       " 'Redhead_Duck',\n",
       " 'Ring_Billed_Gull',\n",
       " 'Ring_Necked_Duck',\n",
       " 'Rosy_Billed_Pochard',\n",
       " 'Ruddy_Turnstone',\n",
       " 'Sanderling',\n",
       " 'Semipalmated_Sandpiper',\n",
       " 'Shelduck',\n",
       " 'Shorebird',\n",
       " 'Shoveler',\n",
       " 'Sloth_Bear',\n",
       " 'Snow_Goose',\n",
       " 'Sparrow',\n",
       " 'Swan',\n",
       " 'Swine',\n",
       " 'Teal',\n",
       " 'Tufted_Duck',\n",
       " 'Turkey',\n",
       " 'Velvet_Scoter',\n",
       " 'Waterfowl',\n",
       " 'Weasel',\n",
       " 'White_Fronted_Goose',\n",
       " 'White_Rumped_Munia',\n",
       " 'Widgeon',\n",
       " 'Wood_Duck'}"
      ]
     },
     "execution_count": 12,
     "metadata": {},
     "output_type": "execute_result"
    }
   ],
   "source": [
    "set([i for i in train_test_df['host'].values])"
   ]
  },
  {
   "cell_type": "code",
   "execution_count": 13,
   "metadata": {
    "collapsed": false
   },
   "outputs": [
    {
     "data": {
      "text/plain": [
       "(25414, 95)"
      ]
     },
     "execution_count": 13,
     "metadata": {},
     "output_type": "execute_result"
    }
   ],
   "source": [
    "# Grab out the labels.\n",
    "output_lb = LabelBinarizer()\n",
    "output_lb.fit(train_test_df['host'])\n",
    "Y = output_lb.fit_transform(train_test_df['host'])\n",
    "Y = Y.astype(np.float32)  # Necessary for passing the data into nolearn.\n",
    "Y.shape"
   ]
  },
  {
   "cell_type": "code",
   "execution_count": 14,
   "metadata": {
    "collapsed": false
   },
   "outputs": [
    {
     "data": {
      "text/plain": [
       "(25414, 566)"
      ]
     },
     "execution_count": 14,
     "metadata": {},
     "output_type": "execute_result"
    }
   ],
   "source": [
    "X = train_test_df.ix[:,:-1].values\n",
    "X = X.astype(np.float32)  # Necessary for passing the data into nolearn.\n",
    "X.shape"
   ]
  },
  {
   "cell_type": "markdown",
   "metadata": {},
   "source": [
    "Next up, we do the train/test split."
   ]
  },
  {
   "cell_type": "code",
   "execution_count": 15,
   "metadata": {
    "collapsed": false
   },
   "outputs": [],
   "source": [
    "X_train, X_test, Y_train, Y_test = train_test_split(X, Y, test_size=0.25, random_state=42)"
   ]
  },
  {
   "cell_type": "markdown",
   "metadata": {},
   "source": [
    "For comparison, let's train a random forest classifier, and see what the concordance is between the predicted labels and the actual labels."
   ]
  },
  {
   "cell_type": "code",
   "execution_count": 84,
   "metadata": {
    "collapsed": false
   },
   "outputs": [
    {
     "data": {
      "text/plain": [
       "0.016610553650984284"
      ]
     },
     "execution_count": 84,
     "metadata": {},
     "output_type": "execute_result"
    }
   ],
   "source": [
    "rf = RandomForestClassifier()\n",
    "rf.fit(X_train, Y_train)\n",
    "predictions = rf.predict(X_test)\n",
    "predicted_labels = output_lb.inverse_transform(predictions)\n",
    "# Compute the mutual information between the predicted labels and the actual labels.\n",
    "mi(predicted_labels, output_lb.inverse_transform(Y_test))"
   ]
  },
  {
   "cell_type": "markdown",
   "metadata": {},
   "source": [
    "By the majority-consensus rule, and using mutual information as the metric for scoring, things look not so bad! As mentioned above, the `RandomForestClassifier` is a pretty powerful method for finding non-linear patterns between features and class labels.\n",
    "\n",
    "Uncomment the cell below if you want to try the `scikit-learn`'s `ExtraTreesClassifier`."
   ]
  },
  {
   "cell_type": "code",
   "execution_count": 85,
   "metadata": {
    "collapsed": false
   },
   "outputs": [],
   "source": [
    "# et = ExtraTreesClassifier()\n",
    "# et.fit(X_train, Y_train)\n",
    "# predictions = et.predict(X_test)\n",
    "# predicted_labels = output_lb.inverse_transform(predictions)\n",
    "# mi(predicted_labels, output_lb.inverse_transform(Y_test))"
   ]
  },
  {
   "cell_type": "markdown",
   "metadata": {},
   "source": [
    "As a demonstration of how this model can be used, let's look at the ambiguously labeled sequences, i.e. those from \"Environment\" and \"Avian\", to see whether we can make a prediction as to what host it likely came frome."
   ]
  },
  {
   "cell_type": "code",
   "execution_count": 86,
   "metadata": {
    "collapsed": false,
    "scrolled": true
   },
   "outputs": [],
   "source": [
    "# unknown_hosts = unknowns.ix[:,:-1].values\n",
    "\n",
    "# preds = rf.predict(unknown_hosts)\n",
    "# output_lb.inverse_transform(preds)"
   ]
  },
  {
   "cell_type": "markdown",
   "metadata": {},
   "source": [
    "Alrighty - we're now ready to try out a neural network! For this try, we will use `lasagne` and `nolearn`, two packages which have made things pretty easy for building neural networks. In this segment, I'm going to not show experiments with multiple architectures, activations and the like. The goal is to illustrate how easy the specification of a neural network is."
   ]
  },
  {
   "cell_type": "markdown",
   "metadata": {},
   "source": [
    "The network architecture that we'll try is as such:\n",
    "\n",
    "- 1 input layer, of shape 6750 (i.e. taking in the columns as data).\n",
    "- 1 hidden layer, with 300 units.\n",
    "- 1 output layer, of shape 140 (i.e. each of the class labels)."
   ]
  },
  {
   "cell_type": "code",
   "execution_count": 109,
   "metadata": {
    "collapsed": false
   },
   "outputs": [],
   "source": [
    "from lasagne import nonlinearities as nl\n",
    "net1 = NeuralNet(layers=[\n",
    "        ('input', layers.InputLayer),\n",
    "        ('hidden1', layers.DenseLayer),\n",
    "        #('dropout', layers.DropoutLayer),\n",
    "        #('hidden2', layers.DenseLayer),\n",
    "        #('dropout2', layers.DropoutLayer),\n",
    "        ('output', layers.DenseLayer),\n",
    "    ],\n",
    "        # Layer parameters:\n",
    "        input_shape=(None, X.shape[1]),\n",
    "        hidden1_num_units=300,\n",
    "        #dropout_p=0.3,\n",
    "        #hidden2_num_units=500,\n",
    "        #dropout2_p=0.3,\n",
    "        output_nonlinearity=nl.softmax,\n",
    "        output_num_units=Y.shape[1],\n",
    "        #allow_input_downcast=True,\n",
    "\n",
    "        # Optimization Method:\n",
    "        update=nesterov_momentum,\n",
    "        update_learning_rate=0.01,\n",
    "        update_momentum=0.9,\n",
    "                \n",
    "        regression=True,\n",
    "        max_epochs=100,\n",
    "        verbose=1\n",
    "        )"
   ]
  },
  {
   "cell_type": "markdown",
   "metadata": {},
   "source": [
    "Training a simple neural network on my MacBook Air takes quite a bit of time :). But the function call for fitting it is a simple `nnet.fit(X, Y)`."
   ]
  },
  {
   "cell_type": "code",
   "execution_count": 110,
   "metadata": {
    "collapsed": false,
    "scrolled": false
   },
   "outputs": [
    {
     "name": "stdout",
     "output_type": "stream",
     "text": [
      "# Neural Network with 197792 learnable parameters\n",
      "\n",
      "## Layer information\n",
      "\n",
      "  #  name       size\n",
      "---  -------  ------\n",
      "  0  input       566\n",
      "  1  hidden1     300\n",
      "  2  output       92\n",
      "\n",
      "  epoch    train loss    valid loss    train/val  dur\n",
      "-------  ------------  ------------  -----------  -----\n",
      "      1       \u001b[36m0.00935\u001b[0m       \u001b[32m0.00808\u001b[0m      1.15611  0.43s\n",
      "      2       \u001b[36m0.00801\u001b[0m       \u001b[32m0.00790\u001b[0m      1.01385  0.43s\n",
      "      3       \u001b[36m0.00794\u001b[0m       \u001b[32m0.00787\u001b[0m      1.00938  0.43s\n",
      "      4       \u001b[36m0.00791\u001b[0m       \u001b[32m0.00785\u001b[0m      1.00878  0.43s\n",
      "      5       \u001b[36m0.00789\u001b[0m       \u001b[32m0.00782\u001b[0m      1.00854  0.43s\n",
      "      6       \u001b[36m0.00786\u001b[0m       \u001b[32m0.00779\u001b[0m      1.00864  0.43s\n",
      "      7       \u001b[36m0.00781\u001b[0m       \u001b[32m0.00774\u001b[0m      1.00965  0.43s\n",
      "      8       \u001b[36m0.00774\u001b[0m       \u001b[32m0.00763\u001b[0m      1.01448  0.43s\n",
      "      9       \u001b[36m0.00749\u001b[0m       \u001b[32m0.00708\u001b[0m      1.05802  0.43s\n",
      "     10       \u001b[36m0.00616\u001b[0m       \u001b[32m0.00540\u001b[0m      1.14105  0.43s\n",
      "     11       \u001b[36m0.00551\u001b[0m       \u001b[32m0.00533\u001b[0m      1.03429  0.43s\n",
      "     12       \u001b[36m0.00549\u001b[0m       \u001b[32m0.00531\u001b[0m      1.03277  0.43s\n",
      "     13       \u001b[36m0.00548\u001b[0m       \u001b[32m0.00531\u001b[0m      1.03249  0.43s\n",
      "     14       \u001b[36m0.00547\u001b[0m       \u001b[32m0.00530\u001b[0m      1.03227  0.43s\n",
      "     15       \u001b[36m0.00547\u001b[0m       \u001b[32m0.00530\u001b[0m      1.03210  0.43s\n",
      "     16       \u001b[36m0.00546\u001b[0m       \u001b[32m0.00529\u001b[0m      1.03197  0.43s\n",
      "     17       \u001b[36m0.00546\u001b[0m       \u001b[32m0.00529\u001b[0m      1.03186  0.43s\n",
      "     18       \u001b[36m0.00546\u001b[0m       \u001b[32m0.00529\u001b[0m      1.03178  0.43s\n",
      "     19       \u001b[36m0.00545\u001b[0m       \u001b[32m0.00529\u001b[0m      1.03171  0.43s\n",
      "     20       \u001b[36m0.00545\u001b[0m       \u001b[32m0.00528\u001b[0m      1.03164  0.42s\n",
      "     21       \u001b[36m0.00545\u001b[0m       \u001b[32m0.00528\u001b[0m      1.03158  0.41s\n",
      "     22       \u001b[36m0.00545\u001b[0m       \u001b[32m0.00528\u001b[0m      1.03152  0.41s\n",
      "     23       \u001b[36m0.00544\u001b[0m       \u001b[32m0.00528\u001b[0m      1.03146  0.41s\n",
      "     24       \u001b[36m0.00544\u001b[0m       \u001b[32m0.00528\u001b[0m      1.03141  0.41s\n",
      "     25       \u001b[36m0.00544\u001b[0m       \u001b[32m0.00527\u001b[0m      1.03136  0.41s\n",
      "     26       \u001b[36m0.00544\u001b[0m       \u001b[32m0.00527\u001b[0m      1.03131  0.41s\n",
      "     27       \u001b[36m0.00544\u001b[0m       \u001b[32m0.00527\u001b[0m      1.03127  0.42s\n",
      "     28       \u001b[36m0.00543\u001b[0m       \u001b[32m0.00527\u001b[0m      1.03123  0.43s\n",
      "     29       \u001b[36m0.00543\u001b[0m       \u001b[32m0.00527\u001b[0m      1.03120  0.43s\n",
      "     30       \u001b[36m0.00543\u001b[0m       \u001b[32m0.00527\u001b[0m      1.03116  0.43s\n",
      "     31       \u001b[36m0.00543\u001b[0m       \u001b[32m0.00526\u001b[0m      1.03113  0.43s\n",
      "     32       \u001b[36m0.00543\u001b[0m       \u001b[32m0.00526\u001b[0m      1.03111  0.43s\n",
      "     33       \u001b[36m0.00542\u001b[0m       \u001b[32m0.00526\u001b[0m      1.03108  0.43s\n",
      "     34       \u001b[36m0.00542\u001b[0m       \u001b[32m0.00526\u001b[0m      1.03106  0.43s\n",
      "     35       \u001b[36m0.00542\u001b[0m       \u001b[32m0.00525\u001b[0m      1.03105  0.43s\n",
      "     36       \u001b[36m0.00541\u001b[0m       \u001b[32m0.00525\u001b[0m      1.03105  0.43s\n",
      "     37       \u001b[36m0.00541\u001b[0m       \u001b[32m0.00525\u001b[0m      1.03105  0.43s\n",
      "     38       \u001b[36m0.00541\u001b[0m       \u001b[32m0.00524\u001b[0m      1.03107  0.43s\n",
      "     39       \u001b[36m0.00540\u001b[0m       \u001b[32m0.00524\u001b[0m      1.03110  0.43s\n",
      "     40       \u001b[36m0.00540\u001b[0m       \u001b[32m0.00523\u001b[0m      1.03114  0.42s\n",
      "     41       \u001b[36m0.00539\u001b[0m       \u001b[32m0.00523\u001b[0m      1.03120  0.42s\n",
      "     42       \u001b[36m0.00538\u001b[0m       \u001b[32m0.00522\u001b[0m      1.03127  0.42s\n",
      "     43       \u001b[36m0.00537\u001b[0m       \u001b[32m0.00521\u001b[0m      1.03136  0.41s\n",
      "     44       \u001b[36m0.00536\u001b[0m       \u001b[32m0.00520\u001b[0m      1.03145  0.41s\n",
      "     45       \u001b[36m0.00535\u001b[0m       \u001b[32m0.00519\u001b[0m      1.03151  0.41s\n",
      "     46       \u001b[36m0.00534\u001b[0m       \u001b[32m0.00518\u001b[0m      1.03150  0.41s\n",
      "     47       \u001b[36m0.00533\u001b[0m       \u001b[32m0.00517\u001b[0m      1.03142  0.41s\n",
      "     48       \u001b[36m0.00532\u001b[0m       \u001b[32m0.00516\u001b[0m      1.03128  0.41s\n",
      "     49       \u001b[36m0.00531\u001b[0m       \u001b[32m0.00515\u001b[0m      1.03112  0.41s\n",
      "     50       \u001b[36m0.00530\u001b[0m       \u001b[32m0.00514\u001b[0m      1.03100  0.41s\n",
      "     51       \u001b[36m0.00529\u001b[0m       \u001b[32m0.00514\u001b[0m      1.03092  0.41s\n",
      "     52       \u001b[36m0.00529\u001b[0m       \u001b[32m0.00513\u001b[0m      1.03086  0.41s\n",
      "     53       \u001b[36m0.00528\u001b[0m       \u001b[32m0.00513\u001b[0m      1.03083  0.41s\n",
      "     54       \u001b[36m0.00528\u001b[0m       \u001b[32m0.00512\u001b[0m      1.03082  0.41s\n",
      "     55       \u001b[36m0.00528\u001b[0m       \u001b[32m0.00512\u001b[0m      1.03081  0.41s\n",
      "     56       \u001b[36m0.00527\u001b[0m       \u001b[32m0.00511\u001b[0m      1.03081  0.41s\n",
      "     57       \u001b[36m0.00527\u001b[0m       \u001b[32m0.00511\u001b[0m      1.03082  0.41s\n",
      "     58       \u001b[36m0.00526\u001b[0m       \u001b[32m0.00510\u001b[0m      1.03082  0.41s\n",
      "     59       \u001b[36m0.00525\u001b[0m       \u001b[32m0.00510\u001b[0m      1.03083  0.41s\n",
      "     60       \u001b[36m0.00525\u001b[0m       \u001b[32m0.00509\u001b[0m      1.03082  0.41s\n",
      "     61       \u001b[36m0.00524\u001b[0m       \u001b[32m0.00508\u001b[0m      1.03079  0.41s\n",
      "     62       \u001b[36m0.00523\u001b[0m       \u001b[32m0.00507\u001b[0m      1.03073  0.41s\n",
      "     63       \u001b[36m0.00522\u001b[0m       \u001b[32m0.00506\u001b[0m      1.03060  0.41s\n",
      "     64       \u001b[36m0.00521\u001b[0m       \u001b[32m0.00505\u001b[0m      1.03042  0.41s\n",
      "     65       \u001b[36m0.00520\u001b[0m       \u001b[32m0.00505\u001b[0m      1.03024  0.41s\n",
      "     66       \u001b[36m0.00519\u001b[0m       \u001b[32m0.00504\u001b[0m      1.03008  0.41s\n",
      "     67       \u001b[36m0.00518\u001b[0m       \u001b[32m0.00503\u001b[0m      1.02997  0.41s\n",
      "     68       \u001b[36m0.00518\u001b[0m       \u001b[32m0.00503\u001b[0m      1.02990  0.41s\n",
      "     69       \u001b[36m0.00518\u001b[0m       \u001b[32m0.00503\u001b[0m      1.02986  0.41s\n",
      "     70       \u001b[36m0.00517\u001b[0m       \u001b[32m0.00502\u001b[0m      1.02983  0.41s\n",
      "     71       \u001b[36m0.00517\u001b[0m       \u001b[32m0.00502\u001b[0m      1.02980  0.41s\n",
      "     72       \u001b[36m0.00517\u001b[0m       \u001b[32m0.00502\u001b[0m      1.02977  0.41s\n",
      "     73       \u001b[36m0.00517\u001b[0m       \u001b[32m0.00502\u001b[0m      1.02973  0.41s\n",
      "     74       \u001b[36m0.00517\u001b[0m       \u001b[32m0.00502\u001b[0m      1.02969  0.41s\n",
      "     75       \u001b[36m0.00517\u001b[0m       \u001b[32m0.00502\u001b[0m      1.02964  0.41s\n",
      "     76       \u001b[36m0.00517\u001b[0m       \u001b[32m0.00502\u001b[0m      1.02959  0.41s\n",
      "     77       \u001b[36m0.00516\u001b[0m       \u001b[32m0.00502\u001b[0m      1.02953  0.41s\n",
      "     78       \u001b[36m0.00516\u001b[0m       \u001b[32m0.00502\u001b[0m      1.02947  0.41s\n",
      "     79       \u001b[36m0.00516\u001b[0m       \u001b[32m0.00501\u001b[0m      1.02941  0.41s\n",
      "     80       \u001b[36m0.00516\u001b[0m       \u001b[32m0.00501\u001b[0m      1.02935  0.42s\n",
      "     81       \u001b[36m0.00516\u001b[0m       \u001b[32m0.00501\u001b[0m      1.02929  0.42s\n",
      "     82       \u001b[36m0.00516\u001b[0m       \u001b[32m0.00501\u001b[0m      1.02923  0.42s\n",
      "     83       \u001b[36m0.00516\u001b[0m       \u001b[32m0.00501\u001b[0m      1.02917  0.43s\n",
      "     84       \u001b[36m0.00516\u001b[0m       \u001b[32m0.00501\u001b[0m      1.02911  0.42s\n",
      "     85       \u001b[36m0.00516\u001b[0m       \u001b[32m0.00501\u001b[0m      1.02905  0.41s\n",
      "     86       \u001b[36m0.00516\u001b[0m       \u001b[32m0.00501\u001b[0m      1.02899  0.41s\n",
      "     87       \u001b[36m0.00516\u001b[0m       \u001b[32m0.00501\u001b[0m      1.02894  0.41s\n",
      "     88       \u001b[36m0.00516\u001b[0m       \u001b[32m0.00501\u001b[0m      1.02888  0.41s\n",
      "     89       \u001b[36m0.00515\u001b[0m       \u001b[32m0.00501\u001b[0m      1.02883  0.41s\n",
      "     90       \u001b[36m0.00515\u001b[0m       \u001b[32m0.00501\u001b[0m      1.02877  0.41s\n",
      "     91       \u001b[36m0.00515\u001b[0m       \u001b[32m0.00501\u001b[0m      1.02872  0.41s\n",
      "     92       \u001b[36m0.00515\u001b[0m       \u001b[32m0.00501\u001b[0m      1.02865  0.41s\n",
      "     93       \u001b[36m0.00515\u001b[0m       \u001b[32m0.00501\u001b[0m      1.02860  0.41s\n",
      "     94       \u001b[36m0.00515\u001b[0m       \u001b[32m0.00501\u001b[0m      1.02854  0.41s\n",
      "     95       \u001b[36m0.00515\u001b[0m       \u001b[32m0.00501\u001b[0m      1.02848  0.41s\n",
      "     96       \u001b[36m0.00515\u001b[0m       \u001b[32m0.00501\u001b[0m      1.02843  0.41s\n",
      "     97       \u001b[36m0.00515\u001b[0m       \u001b[32m0.00501\u001b[0m      1.02839  0.41s\n",
      "     98       \u001b[36m0.00515\u001b[0m       \u001b[32m0.00501\u001b[0m      1.02834  0.41s\n",
      "     99       \u001b[36m0.00515\u001b[0m       \u001b[32m0.00501\u001b[0m      1.02829  0.41s\n",
      "    100       \u001b[36m0.00515\u001b[0m       \u001b[32m0.00501\u001b[0m      1.02824  0.41s\n"
     ]
    },
    {
     "data": {
      "text/plain": [
       "NeuralNet(X_tensor_type=None,\n",
       "     batch_iterator_test=<nolearn.lasagne.base.BatchIterator object at 0x7fa7e19c5d30>,\n",
       "     batch_iterator_train=<nolearn.lasagne.base.BatchIterator object at 0x7fa7e19c5cc0>,\n",
       "     custom_score=None, hidden1_num_units=300, input_shape=(None, 566),\n",
       "     layers=[('input', <class 'lasagne.layers.input.InputLayer'>), ('hidden1', <class 'lasagne.layers.dense.DenseLayer'>), ('output', <class 'lasagne.layers.dense.DenseLayer'>)],\n",
       "     loss=None, max_epochs=100, more_params={},\n",
       "     objective=<function objective at 0x7fa7e19b28c8>,\n",
       "     objective_loss_function=<function squared_error at 0x7fa7e1b44bf8>,\n",
       "     on_epoch_finished=[<nolearn.lasagne.handlers.PrintLog object at 0x7fa7d65ec860>],\n",
       "     on_training_finished=[],\n",
       "     on_training_started=[<nolearn.lasagne.handlers.PrintLayerInfo object at 0x7fa7d65ecf28>],\n",
       "     output_nonlinearity=<function softmax at 0x7fa7e206c6a8>,\n",
       "     output_num_units=92, regression=True,\n",
       "     train_split=<nolearn.lasagne.base.TrainSplit object at 0x7fa7e19c5d68>,\n",
       "     update=<function nesterov_momentum at 0x7fa7e1b52488>,\n",
       "     update_learning_rate=0.01, update_momentum=0.9,\n",
       "     use_label_encoder=False, verbose=1,\n",
       "     y_tensor_type=TensorType(float32, matrix))"
      ]
     },
     "execution_count": 110,
     "metadata": {},
     "output_type": "execute_result"
    }
   ],
   "source": [
    "net1.fit(X_train, Y_train)"
   ]
  },
  {
   "cell_type": "markdown",
   "metadata": {},
   "source": [
    "Let's grab out the predictions!"
   ]
  },
  {
   "cell_type": "code",
   "execution_count": 111,
   "metadata": {
    "collapsed": false
   },
   "outputs": [
    {
     "data": {
      "text/plain": [
       "(6350, 92)"
      ]
     },
     "execution_count": 111,
     "metadata": {},
     "output_type": "execute_result"
    }
   ],
   "source": [
    "preds = net1.predict(X_test)\n",
    "preds.shape"
   ]
  },
  {
   "cell_type": "markdown",
   "metadata": {},
   "source": [
    "We're going to see how good the classifier did by examining the class labels. The way to visualize this is to have, say, the class labels on the X-axis, and the probability of prediction on the Y-axis. We can do this sample by sample. Here's a simple example with no frills in the matplotlib interface."
   ]
  },
  {
   "cell_type": "code",
   "execution_count": 112,
   "metadata": {
    "collapsed": false
   },
   "outputs": [
    {
     "data": {
      "text/plain": [
       "<Container object of 92 artists>"
      ]
     },
     "execution_count": 112,
     "metadata": {},
     "output_type": "execute_result"
    },
    {
     "data": {
      "image/png": "[encoded data removed]",
      "text/plain": [
       "<matplotlib.figure.Figure at 0x7fa7c37b1ef0>"
      ]
     },
     "metadata": {},
     "output_type": "display_data"
    }
   ],
   "source": [
    "import matplotlib.pyplot as plt\n",
    "\n",
    "%matplotlib inline\n",
    "\n",
    "plt.bar(np.arange(len(preds[0])), preds[0])"
   ]
  },
  {
   "cell_type": "markdown",
   "metadata": {},
   "source": [
    "Alrighty, let's add some frills - the class labels, the probability of each class label, and the original class label."
   ]
  },
  {
   "cell_type": "code",
   "execution_count": 113,
   "metadata": {
    "collapsed": false
   },
   "outputs": [
    {
     "data": {
      "image/png": "[encoded data removed]",
      "text/plain": [
       "<matplotlib.figure.Figure at 0x7fa7c37b1b70>"
      ]
     },
     "metadata": {},
     "output_type": "display_data"
    }
   ],
   "source": [
    "### NOTE: Change the value of i to anything above!\n",
    "i = 111\n",
    "plt.figure(figsize=(20,5))\n",
    "plt.bar(np.arange(len(output_lb.classes_)), preds[i])\n",
    "plt.xticks(np.arange(len(output_lb.classes_)) + 0.5, output_lb.classes_, rotation='vertical')\n",
    "plt.title('Original Label: ' + output_lb.inverse_transform(Y_test)[i])\n",
    "plt.show()\n",
    "# print(output_lb.inverse_transform(Y_test)[i])"
   ]
  },
  {
   "cell_type": "markdown",
   "metadata": {},
   "source": [
    "Let's do a majority-consensus rule applied to the labels, and then compute the mutual information score again."
   ]
  },
  {
   "cell_type": "code",
   "execution_count": 114,
   "metadata": {
    "collapsed": false
   },
   "outputs": [
    {
     "data": {
      "text/plain": [
       "0.001634874148176865"
      ]
     },
     "execution_count": 114,
     "metadata": {},
     "output_type": "execute_result"
    }
   ],
   "source": [
    "preds_labels = []\n",
    "for i in range(preds.shape[0]):\n",
    "    maxval = max(preds[i])\n",
    "    pos = list(preds[i]).index(maxval)\n",
    "    \n",
    "    preds_labels.append(output_lb.classes_[pos])\n",
    "\n",
    "mi(preds_labels, output_lb.inverse_transform(Y_test))"
   ]
  },
  {
   "cell_type": "markdown",
   "metadata": {},
   "source": [
    "With a score of 0.73, that's not bad either! It certainly didn't outperform the `RandomForestClassifier`, but the default parameters on the RFC were probably pretty good to begin with. Notice how little tweaking on the neural network we had to do as well.\n",
    "\n",
    "For good measure, these were the class labels. Notice how successful influenza has been in replicating across the many different species!"
   ]
  },
  {
   "cell_type": "code",
   "execution_count": 115,
   "metadata": {
    "collapsed": false
   },
   "outputs": [
    {
     "data": {
      "text/plain": [
       "array(['American_Black_Duck', 'American_Green_Winged_Teal',\n",
       "       'American_Widgeon', 'American_Wigeon', 'Bantam', 'Barnacle_Goose',\n",
       "       'Black_Duck', 'Black_Headed_Gull', 'Black_Scoter',\n",
       "       'Blue_Winged_Teal', 'Blue_Winged_Teal_', 'Bufflehead',\n",
       "       'Canada_Goose', 'Canvasback', 'Chicken', 'Cinnamon_Teal',\n",
       "       'Common_Coot', 'Common_Eider', 'Common_Goldeneye', 'Common_Murre',\n",
       "       'Dog', 'Domestic_Cat', 'Double_Crested_Cormorant', 'Duck', 'Dunlin',\n",
       "       'Eurasian_Wigeon', 'Ferret', 'Gadwall', 'Garganey', 'Glaucous_Gull',\n",
       "       'Goose', 'Greater_White_Fronted_Goose', 'Grebe',\n",
       "       'Green_Winged_Teal', 'Guineafowl', 'Gull', 'Herring_Gull',\n",
       "       'Hooded_Merganser', 'Human', 'Knot', 'LAB', 'Large_Cat',\n",
       "       'Laughing_Gull', 'Lesser_Scaup', 'Long_Tailed_Duck', 'Mallard',\n",
       "       'Mallard_Black_Duck_Hybrid', 'Mallard_Duck', 'Mew_Gull', 'Mink',\n",
       "       'Murre', 'Muscovy_Duck', 'Northern_Pintail', 'Northern_Shoveler',\n",
       "       'Ostrich', 'Pacific_Golden_Plover', 'Panda', 'Pelican', 'Pig',\n",
       "       'Pigeon', 'Pintail', 'Poultry', 'Quail', 'Red_Crested_Pochard',\n",
       "       'Red_Knot', 'Red_Necked_Stint', 'Redhead', 'Redhead_Duck',\n",
       "       'Ring_Billed_Gull', 'Ring_Necked_Duck', 'Rosy_Billed_Pochard',\n",
       "       'Ruddy_Turnstone', 'Sanderling', 'Semipalmated_Sandpiper',\n",
       "       'Shelduck', 'Shorebird', 'Shoveler', 'Sloth_Bear', 'Snow_Goose',\n",
       "       'Sparrow', 'Swan', 'Swine', 'Teal', 'Tufted_Duck', 'Turkey',\n",
       "       'Velvet_Scoter', 'Waterfowl', 'Weasel', 'White_Fronted_Goose',\n",
       "       'White_Rumped_Munia', 'Widgeon', 'Wood_Duck'], \n",
       "      dtype='<U27')"
      ]
     },
     "execution_count": 115,
     "metadata": {},
     "output_type": "execute_result"
    }
   ],
   "source": [
    "output_lb.classes_"
   ]
  },
  {
   "cell_type": "markdown",
   "metadata": {},
   "source": [
    "# The biology behind this dataset.\n",
    "\n",
    "A bit more about the biology of influenza.\n",
    "\n",
    "If you made it this far, thank you for hanging on! How does this mini project relate to the biology of flu? \n",
    "\n",
    "As the flu evolves and moves between viral hosts, it gradually adapts to that host. This allows it to successfully establish an infection in the host population. \n",
    "\n",
    "We can observe the viral host as we sample viruses from it. Sometimes, we don't catch it in its adapted state, but it's un-adapted state, as if it had freshly joined in from its other population. That is likely why some of the class labels are mis-identified.\n",
    "\n",
    "Also, there are environmentally sampled isolates. They obviously aren't simply replicating in the environment (i.e. bodies of water), but in some host, and were shed into the water. For these guys, the host labels won't necessarily match up, as there'll be a stronger signal with particular hosts - whether it be from ducks, pigs or even humans.\n",
    "\n",
    "# Next steps?\n",
    "\n",
    "There's a few obvious things that can be done. \n",
    "\n",
    "1. Latin hypercube sampling for Random Forest parameters.\n",
    "2. Experimenting with adding more layers, tweaking the layer types etc.\n",
    "\n",
    "What else might be done? Ping me at ericmajinglong@gmail.com with the subject \"neural nets and HA\". :)"
   ]
  },
  {
   "cell_type": "code",
   "execution_count": null,
   "metadata": {
    "collapsed": true
   },
   "outputs": [],
   "source": []
  }
 ],
 "metadata": {
  "kernelspec": {
   "display_name": "Python 3",
   "language": "python",
   "name": "python3"
  },
  "language_info": {
   "codemirror_mode": {
    "name": "ipython",
    "version": 3
   },
   "file_extension": ".py",
   "mimetype": "text/x-python",
   "name": "python",
   "nbconvert_exporter": "python",
   "pygments_lexer": "ipython3",
   "version": "3.4.3"
  }
 },
 "nbformat": 4,
 "nbformat_minor": 0
}
