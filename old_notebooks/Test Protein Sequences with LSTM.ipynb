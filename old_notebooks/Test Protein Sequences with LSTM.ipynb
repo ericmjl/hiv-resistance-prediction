{
 "cells": [
  {
   "cell_type": "code",
   "execution_count": 1,
   "metadata": {
    "collapsed": false
   },
   "outputs": [
    {
     "name": "stderr",
     "output_type": "stream",
     "text": [
      "Using gpu device 0: GRID K520 (CNMeM is disabled)\n",
      "/home/ubuntu/anaconda3/lib/python3.5/site-packages/matplotlib/__init__.py:872: UserWarning: axes.color_cycle is deprecated and replaced with axes.prop_cycle; please use the latter.\n",
      "  warnings.warn(self.msg_depr % (key, alt_key))\n"
     ]
    },
    {
     "name": "stdout",
     "output_type": "stream",
     "text": [
      "Using Theano backend.\n"
     ]
    }
   ],
   "source": [
    "from keras.models import Sequential\n",
    "from keras.layers.core import Dense, Activation, Dropout\n",
    "from keras.layers.recurrent import LSTM\n",
    "from keras.datasets.data_utils import get_file\n",
    "import numpy as np\n",
    "import random\n",
    "import sys\n",
    "\n",
    "from Bio import SeqIO\n",
    "from sklearn.utils import resample\n",
    "from sklearn.preprocessing import LabelBinarizer\n",
    "\n",
    "import custom_funcs as cf\n",
    "import pandas as pd"
   ]
  },
  {
   "cell_type": "code",
   "execution_count": 2,
   "metadata": {
    "collapsed": false,
    "scrolled": true
   },
   "outputs": [
    {
     "name": "stdout",
     "output_type": "stream",
     "text": [
      "1808\n"
     ]
    },
    {
     "data": {
      "text/html": [
       "<div>\n",
       "<table border=\"1\" class=\"dataframe\">\n",
       "  <thead>\n",
       "    <tr style=\"text-align: right;\">\n",
       "      <th></th>\n",
       "      <th>FPV</th>\n",
       "      <th>ATV</th>\n",
       "      <th>IDV</th>\n",
       "      <th>LPV</th>\n",
       "      <th>NFV</th>\n",
       "      <th>SQV</th>\n",
       "      <th>TPV</th>\n",
       "      <th>DRV</th>\n",
       "      <th>P1</th>\n",
       "      <th>P2</th>\n",
       "      <th>...</th>\n",
       "      <th>P90</th>\n",
       "      <th>P91</th>\n",
       "      <th>P92</th>\n",
       "      <th>P93</th>\n",
       "      <th>P94</th>\n",
       "      <th>P95</th>\n",
       "      <th>P96</th>\n",
       "      <th>P97</th>\n",
       "      <th>P98</th>\n",
       "      <th>P99</th>\n",
       "    </tr>\n",
       "    <tr>\n",
       "      <th>SeqID</th>\n",
       "      <th></th>\n",
       "      <th></th>\n",
       "      <th></th>\n",
       "      <th></th>\n",
       "      <th></th>\n",
       "      <th></th>\n",
       "      <th></th>\n",
       "      <th></th>\n",
       "      <th></th>\n",
       "      <th></th>\n",
       "      <th></th>\n",
       "      <th></th>\n",
       "      <th></th>\n",
       "      <th></th>\n",
       "      <th></th>\n",
       "      <th></th>\n",
       "      <th></th>\n",
       "      <th></th>\n",
       "      <th></th>\n",
       "      <th></th>\n",
       "      <th></th>\n",
       "    </tr>\n",
       "  </thead>\n",
       "  <tbody>\n",
       "    <tr>\n",
       "      <th>4432</th>\n",
       "      <td>1.5</td>\n",
       "      <td>NaN</td>\n",
       "      <td>1.0</td>\n",
       "      <td>NaN</td>\n",
       "      <td>2.2</td>\n",
       "      <td>1.1</td>\n",
       "      <td>NaN</td>\n",
       "      <td>NaN</td>\n",
       "      <td>P</td>\n",
       "      <td>Q</td>\n",
       "      <td>...</td>\n",
       "      <td>L</td>\n",
       "      <td>T</td>\n",
       "      <td>Q</td>\n",
       "      <td>I</td>\n",
       "      <td>G</td>\n",
       "      <td>C</td>\n",
       "      <td>T</td>\n",
       "      <td>L</td>\n",
       "      <td>N</td>\n",
       "      <td>F</td>\n",
       "    </tr>\n",
       "    <tr>\n",
       "      <th>4664</th>\n",
       "      <td>3.1</td>\n",
       "      <td>NaN</td>\n",
       "      <td>8.7</td>\n",
       "      <td>NaN</td>\n",
       "      <td>32.0</td>\n",
       "      <td>16.9</td>\n",
       "      <td>NaN</td>\n",
       "      <td>NaN</td>\n",
       "      <td>P</td>\n",
       "      <td>Q</td>\n",
       "      <td>...</td>\n",
       "      <td>M</td>\n",
       "      <td>T</td>\n",
       "      <td>Q</td>\n",
       "      <td>I</td>\n",
       "      <td>G</td>\n",
       "      <td>C</td>\n",
       "      <td>T</td>\n",
       "      <td>L</td>\n",
       "      <td>N</td>\n",
       "      <td>F</td>\n",
       "    </tr>\n",
       "    <tr>\n",
       "      <th>5221</th>\n",
       "      <td>NaN</td>\n",
       "      <td>NaN</td>\n",
       "      <td>0.8</td>\n",
       "      <td>0.8</td>\n",
       "      <td>1.2</td>\n",
       "      <td>0.7</td>\n",
       "      <td>NaN</td>\n",
       "      <td>NaN</td>\n",
       "      <td>P</td>\n",
       "      <td>Q</td>\n",
       "      <td>...</td>\n",
       "      <td>L</td>\n",
       "      <td>T</td>\n",
       "      <td>Q</td>\n",
       "      <td>I</td>\n",
       "      <td>G</td>\n",
       "      <td>C</td>\n",
       "      <td>T</td>\n",
       "      <td>L</td>\n",
       "      <td>N</td>\n",
       "      <td>F</td>\n",
       "    </tr>\n",
       "    <tr>\n",
       "      <th>5279</th>\n",
       "      <td>8.3</td>\n",
       "      <td>79</td>\n",
       "      <td>16.0</td>\n",
       "      <td>12.0</td>\n",
       "      <td>600.0</td>\n",
       "      <td>1000.0</td>\n",
       "      <td>NaN</td>\n",
       "      <td>NaN</td>\n",
       "      <td>P</td>\n",
       "      <td>Q</td>\n",
       "      <td>...</td>\n",
       "      <td>M</td>\n",
       "      <td>T</td>\n",
       "      <td>Q</td>\n",
       "      <td>I</td>\n",
       "      <td>G</td>\n",
       "      <td>C</td>\n",
       "      <td>T</td>\n",
       "      <td>L</td>\n",
       "      <td>N</td>\n",
       "      <td>F</td>\n",
       "    </tr>\n",
       "    <tr>\n",
       "      <th>5444</th>\n",
       "      <td>2.7</td>\n",
       "      <td>21</td>\n",
       "      <td>24.0</td>\n",
       "      <td>6.1</td>\n",
       "      <td>42.0</td>\n",
       "      <td>132.0</td>\n",
       "      <td>NaN</td>\n",
       "      <td>NaN</td>\n",
       "      <td>P</td>\n",
       "      <td>Q</td>\n",
       "      <td>...</td>\n",
       "      <td>M</td>\n",
       "      <td>T</td>\n",
       "      <td>Q</td>\n",
       "      <td>I</td>\n",
       "      <td>G</td>\n",
       "      <td>C</td>\n",
       "      <td>T</td>\n",
       "      <td>L</td>\n",
       "      <td>N</td>\n",
       "      <td>F</td>\n",
       "    </tr>\n",
       "  </tbody>\n",
       "</table>\n",
       "<p>5 rows × 107 columns</p>\n",
       "</div>"
      ],
      "text/plain": [
       "       FPV  ATV   IDV   LPV    NFV     SQV  TPV  DRV P1 P2 ... P90 P91 P92  \\\n",
       "SeqID                                                      ...               \n",
       "4432   1.5  NaN   1.0   NaN    2.2     1.1  NaN  NaN  P  Q ...   L   T   Q   \n",
       "4664   3.1  NaN   8.7   NaN   32.0    16.9  NaN  NaN  P  Q ...   M   T   Q   \n",
       "5221   NaN  NaN   0.8   0.8    1.2     0.7  NaN  NaN  P  Q ...   L   T   Q   \n",
       "5279   8.3   79  16.0  12.0  600.0  1000.0  NaN  NaN  P  Q ...   M   T   Q   \n",
       "5444   2.7   21  24.0   6.1   42.0   132.0  NaN  NaN  P  Q ...   M   T   Q   \n",
       "\n",
       "      P93 P94 P95 P96 P97 P98 P99  \n",
       "SeqID                              \n",
       "4432    I   G   C   T   L   N   F  \n",
       "4664    I   G   C   T   L   N   F  \n",
       "5221    I   G   C   T   L   N   F  \n",
       "5279    I   G   C   T   L   N   F  \n",
       "5444    I   G   C   T   L   N   F  \n",
       "\n",
       "[5 rows x 107 columns]"
      ]
     },
     "execution_count": 2,
     "metadata": {},
     "output_type": "execute_result"
    }
   ],
   "source": [
    "# Read in the protease inhibitor data\n",
    "data, drug_cols, feat_cols = cf.read_data('hiv-protease-data.csv', n_data_cols=8)\n",
    "print(len(data))\n",
    "# Read in the consensus data\n",
    "consensus_map = cf.read_consensus('hiv-protease-consensus.fasta')\n",
    "\n",
    "# Clean the data\n",
    "data = cf.clean_data(data, feat_cols, consensus_map)\n",
    "\n",
    "# Identify feature columns\n",
    "data = cf.drop_ambiguous_sequences(data, feat_cols)\n",
    "data.dropna(inplace=True, subset=feat_cols)\n",
    "data.head()"
   ]
  },
  {
   "cell_type": "code",
   "execution_count": 3,
   "metadata": {
    "collapsed": false
   },
   "outputs": [
    {
     "name": "stdout",
     "output_type": "stream",
     "text": [
      "Index(['FPV', 'ATV', 'IDV', 'LPV', 'NFV', 'SQV', 'TPV', 'DRV'], dtype='object')\n"
     ]
    }
   ],
   "source": [
    "# Audience choice: Which drug would you like?\n",
    "print(drug_colscols)\n",
    "\n",
    "DRUG = 'FPV'"
   ]
  },
  {
   "cell_type": "code",
   "execution_count": 5,
   "metadata": {
    "collapsed": false
   },
   "outputs": [],
   "source": [
    "# Do vectorization into chunks of 20 a.a.\n",
    "\n",
    "chunk_size = 20\n",
    "motifs = []\n",
    "jump_size = 5\n",
    "\n",
    "\n"
   ]
  },
  {
   "cell_type": "code",
   "execution_count": 45,
   "metadata": {
    "collapsed": false,
    "scrolled": true
   },
   "outputs": [
    {
     "data": {
      "text/plain": [
       "SeqID\n",
       "59258     1.131402\n",
       "117142    3.737670\n",
       "27084     2.484907\n",
       "205640    2.833213\n",
       "60106     0.262364\n",
       "81797    -0.105361\n",
       "68353    -0.693147\n",
       "54411     1.526056\n",
       "56022    -0.223144\n",
       "197096   -0.105361\n",
       "13239    -2.302585\n",
       "28215     0.095310\n",
       "61105     0.182322\n",
       "79370    -0.693147\n",
       "148009    0.336472\n",
       "45122    -1.203973\n",
       "45065    -1.609438\n",
       "143455    2.197225\n",
       "46209    -0.510826\n",
       "187169    0.000000\n",
       "172136    1.887070\n",
       "51225     0.641854\n",
       "75112    -0.510826\n",
       "109410   -0.105361\n",
       "61147    -0.916291\n",
       "7119      0.336472\n",
       "116511    2.772589\n",
       "46705    -0.693147\n",
       "90010     1.648659\n",
       "29045    -0.916291\n",
       "            ...   \n",
       "45080    -0.105361\n",
       "68992     0.955511\n",
       "197088   -0.223144\n",
       "187195   -0.510826\n",
       "216661   -0.916291\n",
       "257947   -0.510826\n",
       "41597    -0.916291\n",
       "117142    3.737670\n",
       "12650    -0.693147\n",
       "54411     1.526056\n",
       "13242    -1.609438\n",
       "54170     3.437208\n",
       "98603     5.991465\n",
       "54412     2.890372\n",
       "45040     0.000000\n",
       "116501   -0.510826\n",
       "45096     0.000000\n",
       "75114    -0.916291\n",
       "60104    -0.510826\n",
       "56478    -0.223144\n",
       "66640     0.095310\n",
       "77379     3.912023\n",
       "81843     1.667707\n",
       "54398     1.064711\n",
       "61151    -0.510826\n",
       "60102     3.401197\n",
       "27465     0.336472\n",
       "257923    0.095310\n",
       "29045    -0.916291\n",
       "197092   -0.223144\n",
       "Name: FPV, dtype: float64"
      ]
     },
     "execution_count": 45,
     "metadata": {},
     "output_type": "execute_result"
    }
   ],
   "source": [
    "# build the model: 2 stacked LSTM\n",
    "print('Build model...')\n",
    "model = Sequential()\n",
    "model.add(LSTM(512, return_sequences=True, input_shape=(maxlen, len(chars))))\n",
    "model.add(Dropout(0.2))\n",
    "model.add(LSTM(512, return_sequences=False))\n",
    "model.add(Dropout(0.2))\n",
    "model.add(Dense(len(chars)))\n",
    "model.add(Activation('softmax'))"
   ]
  },
  {
   "cell_type": "code",
   "execution_count": null,
   "metadata": {
    "collapsed": true
   },
   "outputs": [],
   "source": []
  },
  {
   "cell_type": "code",
   "execution_count": null,
   "metadata": {
    "collapsed": true
   },
   "outputs": [],
   "source": []
  },
  {
   "cell_type": "code",
   "execution_count": null,
   "metadata": {
    "collapsed": true
   },
   "outputs": [],
   "source": []
  },
  {
   "cell_type": "code",
   "execution_count": null,
   "metadata": {
    "collapsed": true
   },
   "outputs": [],
   "source": []
  },
  {
   "cell_type": "code",
   "execution_count": 19,
   "metadata": {
    "collapsed": false
   },
   "outputs": [
    {
     "name": "stdout",
     "output_type": "stream",
     "text": [
      "corpus length: 600893\n",
      "total chars: 57\n",
      "nb sequences: 200291\n",
      "Vectorization...\n"
     ]
    }
   ],
   "source": [
    "'''\n",
    "    Example script to generate text from Nietzsche's writings.\n",
    "    At least 20 epochs are required before the generated text\n",
    "    starts sounding coherent.\n",
    "    It is recommended to run this script on GPU, as recurrent\n",
    "    networks are quite computationally intensive.\n",
    "    If you try this script on new data, make sure your corpus\n",
    "    has at least ~100k characters. ~1M is better.\n",
    "'''\n",
    "\n",
    "path = get_file('nietzsche.txt', origin=\"https://s3.amazonaws.com/text-datasets/nietzsche.txt\")\n",
    "text = open(path).read().lower()\n",
    "print('corpus length:', len(text))\n",
    "\n",
    "chars = set(text)\n",
    "print('total chars:', len(chars))\n",
    "char_indices = dict((c, i) for i, c in enumerate(chars))\n",
    "indices_char = dict((i, c) for i, c in enumerate(chars))\n",
    "\n",
    "# cut the text in semi-redundant sequences of maxlen characters\n",
    "    maxlen = 20\n",
    "step = 3\n",
    "sentences = []\n",
    "next_chars = []\n",
    "for i in range(0, len(text) - maxlen, step):\n",
    "    sentences.append(text[i: i + maxlen])\n",
    "    next_chars.append(text[i + maxlen])\n",
    "print('nb sequences:', len(sentences))\n",
    "\n",
    "print('Vectorization...')\n",
    "X = np.zeros((len(sentences), maxlen, len(chars)), dtype=np.bool)\n",
    "y = np.zeros((len(sentences), len(chars)), dtype=np.bool)\n",
    "    for i, sentence in enumerate(sentences):\n",
    "    for t, char in enumerate(sentence):\n",
    "        X[i, t, char_indices[char]] = 1\n",
    "    y[i, char_indices[next_chars[i]]] = 1"
   ]
  },
  {
   "cell_type": "code",
   "execution_count": 16,
   "metadata": {
    "collapsed": false
   },
   "outputs": [
    {
     "data": {
      "text/plain": [
       "' is a woman--what th'"
      ]
     },
     "execution_count": 16,
     "metadata": {},
     "output_type": "execute_result"
    }
   ],
   "source": [
    "sentences[10]"
   ]
  },
  {
   "cell_type": "code",
   "execution_count": 48,
   "metadata": {
    "collapsed": false
   },
   "outputs": [
    {
     "data": {
      "text/plain": [
       "'e'"
      ]
     },
     "execution_count": 48,
     "metadata": {},
     "output_type": "execute_result"
    }
   ],
   "source": [
    "next_chars[10]"
   ]
  },
  {
   "cell_type": "code",
   "execution_count": 4,
   "metadata": {
    "collapsed": false
   },
   "outputs": [
    {
     "data": {
      "text/plain": [
       "(200291, 20, 57)"
      ]
     },
     "execution_count": 4,
     "metadata": {},
     "output_type": "execute_result"
    }
   ],
   "source": [
    "X.shape"
   ]
  },
  {
   "cell_type": "code",
   "execution_count": 6,
   "metadata": {
    "collapsed": false
   },
   "outputs": [
    {
     "data": {
      "text/plain": [
       "{'\\n': 16,\n",
       " ' ': 22,\n",
       " '!': 14,\n",
       " '\"': 39,\n",
       " \"'\": 13,\n",
       " '(': 47,\n",
       " ')': 17,\n",
       " ',': 9,\n",
       " '-': 36,\n",
       " '.': 1,\n",
       " '0': 45,\n",
       " '1': 27,\n",
       " '2': 2,\n",
       " '3': 28,\n",
       " '4': 44,\n",
       " '5': 48,\n",
       " '6': 37,\n",
       " '7': 24,\n",
       " '8': 51,\n",
       " '9': 35,\n",
       " ':': 54,\n",
       " ';': 29,\n",
       " '=': 40,\n",
       " '?': 49,\n",
       " '[': 43,\n",
       " ']': 30,\n",
       " '_': 25,\n",
       " 'a': 5,\n",
       " 'b': 56,\n",
       " 'c': 53,\n",
       " 'd': 26,\n",
       " 'e': 31,\n",
       " 'f': 3,\n",
       " 'g': 12,\n",
       " 'h': 46,\n",
       " 'i': 20,\n",
       " 'j': 15,\n",
       " 'k': 21,\n",
       " 'l': 19,\n",
       " 'm': 8,\n",
       " 'n': 41,\n",
       " 'o': 23,\n",
       " 'p': 32,\n",
       " 'q': 10,\n",
       " 'r': 18,\n",
       " 's': 33,\n",
       " 't': 52,\n",
       " 'u': 6,\n",
       " 'v': 55,\n",
       " 'w': 7,\n",
       " 'x': 50,\n",
       " 'y': 38,\n",
       " 'z': 34,\n",
       " 'ä': 11,\n",
       " 'æ': 0,\n",
       " 'é': 42,\n",
       " 'ë': 4}"
      ]
     },
     "execution_count": 6,
     "metadata": {},
     "output_type": "execute_result"
    }
   ],
   "source": [
    "char_indices"
   ]
  },
  {
   "cell_type": "code",
   "execution_count": null,
   "metadata": {
    "collapsed": true
   },
   "outputs": [],
   "source": []
  }
 ],
 "metadata": {
  "kernelspec": {
   "display_name": "Python 3",
   "language": "python",
   "name": "python3"
  },
  "language_info": {
   "codemirror_mode": {
    "name": "ipython",
    "version": 3
   },
   "file_extension": ".py",
   "mimetype": "text/x-python",
   "name": "python",
   "nbconvert_exporter": "python",
   "pygments_lexer": "ipython3",
   "version": "3.5.0"
  }
 },
 "nbformat": 4,
 "nbformat_minor": 0
}
